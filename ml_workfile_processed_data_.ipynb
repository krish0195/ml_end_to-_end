{
  "cells": [
    {
      "cell_type": "markdown",
      "metadata": {
        "id": "view-in-github",
        "colab_type": "text"
      },
      "source": [
        "<a href=\"https://colab.research.google.com/github/krish0195/ml_end_to-_end/blob/master/ml_workfile_processed_data_.ipynb\" target=\"_parent\"><img src=\"https://colab.research.google.com/assets/colab-badge.svg\" alt=\"Open In Colab\"/></a>"
      ]
    },
    {
      "cell_type": "code",
      "execution_count": null,
      "metadata": {
        "id": "gfMSBfPpLcMl"
      },
      "outputs": [],
      "source": [
        "#Use to import pandas\n",
        "import pandas as pd\n",
        "#Use to import the file into google Colab drive\n",
        "from google.colab import files\n",
        "#Use to import io, which opens the file from the Colab drive\n",
        "import io\n",
        "import numpy as np\n",
        "import matplotlib.pyplot as plt\n",
        "%matplotlib inline\n",
        "from sklearn.model_selection import train_test_split\n",
        "from sklearn import metrics\n",
        "from sklearn.ensemble import RandomForestClassifier\n",
        "from sklearn.linear_model import LogisticRegression\n",
        "import seaborn as sns\n",
        "import warnings\n",
        "warnings.filterwarnings(\"ignore\")\n",
        "from sklearn import metrics\n",
        "from sklearn.metrics import roc_auc_score,roc_curve,classification_report,confusion_matrix\n",
        "from sklearn.pipeline import Pipeline\n",
        "from collections import Counter\n",
        "from imblearn.over_sampling import SMOTE\n",
        "from sklearn.metrics import accuracy_score, precision_score, recall_score, f1_score\n",
        "import pandas as pd\n",
        "pd.set_option('display.max_rows', 500)\n",
        "pd.set_option('display.max_columns', 500)\n",
        "pd.set_option('display.width', 1000)\n",
        "from sklearn.preprocessing import StandardScaler\n",
        "std_scale=StandardScaler()\n",
        "from sklearn.linear_model import LogisticRegression\n",
        "from sklearn.tree import DecisionTreeClassifier\n",
        "from sklearn.ensemble import RandomForestClassifier"
      ]
    },
    {
      "cell_type": "code",
      "execution_count": null,
      "metadata": {
        "colab": {
          "base_uri": "https://localhost:8080/",
          "height": 73
        },
        "id": "nnWmJVVDLgpJ",
        "outputId": "cf45073f-f4c8-4044-9e51-9b4534e661ce"
      },
      "outputs": [
        {
          "output_type": "display_data",
          "data": {
            "text/plain": [
              "<IPython.core.display.HTML object>"
            ],
            "text/html": [
              "\n",
              "     <input type=\"file\" id=\"files-8330d5e3-8831-4528-8845-61d79b9f9d4b\" name=\"files[]\" multiple disabled\n",
              "        style=\"border:none\" />\n",
              "     <output id=\"result-8330d5e3-8831-4528-8845-61d79b9f9d4b\">\n",
              "      Upload widget is only available when the cell has been executed in the\n",
              "      current browser session. Please rerun this cell to enable.\n",
              "      </output>\n",
              "      <script>// Copyright 2017 Google LLC\n",
              "//\n",
              "// Licensed under the Apache License, Version 2.0 (the \"License\");\n",
              "// you may not use this file except in compliance with the License.\n",
              "// You may obtain a copy of the License at\n",
              "//\n",
              "//      http://www.apache.org/licenses/LICENSE-2.0\n",
              "//\n",
              "// Unless required by applicable law or agreed to in writing, software\n",
              "// distributed under the License is distributed on an \"AS IS\" BASIS,\n",
              "// WITHOUT WARRANTIES OR CONDITIONS OF ANY KIND, either express or implied.\n",
              "// See the License for the specific language governing permissions and\n",
              "// limitations under the License.\n",
              "\n",
              "/**\n",
              " * @fileoverview Helpers for google.colab Python module.\n",
              " */\n",
              "(function(scope) {\n",
              "function span(text, styleAttributes = {}) {\n",
              "  const element = document.createElement('span');\n",
              "  element.textContent = text;\n",
              "  for (const key of Object.keys(styleAttributes)) {\n",
              "    element.style[key] = styleAttributes[key];\n",
              "  }\n",
              "  return element;\n",
              "}\n",
              "\n",
              "// Max number of bytes which will be uploaded at a time.\n",
              "const MAX_PAYLOAD_SIZE = 100 * 1024;\n",
              "\n",
              "function _uploadFiles(inputId, outputId) {\n",
              "  const steps = uploadFilesStep(inputId, outputId);\n",
              "  const outputElement = document.getElementById(outputId);\n",
              "  // Cache steps on the outputElement to make it available for the next call\n",
              "  // to uploadFilesContinue from Python.\n",
              "  outputElement.steps = steps;\n",
              "\n",
              "  return _uploadFilesContinue(outputId);\n",
              "}\n",
              "\n",
              "// This is roughly an async generator (not supported in the browser yet),\n",
              "// where there are multiple asynchronous steps and the Python side is going\n",
              "// to poll for completion of each step.\n",
              "// This uses a Promise to block the python side on completion of each step,\n",
              "// then passes the result of the previous step as the input to the next step.\n",
              "function _uploadFilesContinue(outputId) {\n",
              "  const outputElement = document.getElementById(outputId);\n",
              "  const steps = outputElement.steps;\n",
              "\n",
              "  const next = steps.next(outputElement.lastPromiseValue);\n",
              "  return Promise.resolve(next.value.promise).then((value) => {\n",
              "    // Cache the last promise value to make it available to the next\n",
              "    // step of the generator.\n",
              "    outputElement.lastPromiseValue = value;\n",
              "    return next.value.response;\n",
              "  });\n",
              "}\n",
              "\n",
              "/**\n",
              " * Generator function which is called between each async step of the upload\n",
              " * process.\n",
              " * @param {string} inputId Element ID of the input file picker element.\n",
              " * @param {string} outputId Element ID of the output display.\n",
              " * @return {!Iterable<!Object>} Iterable of next steps.\n",
              " */\n",
              "function* uploadFilesStep(inputId, outputId) {\n",
              "  const inputElement = document.getElementById(inputId);\n",
              "  inputElement.disabled = false;\n",
              "\n",
              "  const outputElement = document.getElementById(outputId);\n",
              "  outputElement.innerHTML = '';\n",
              "\n",
              "  const pickedPromise = new Promise((resolve) => {\n",
              "    inputElement.addEventListener('change', (e) => {\n",
              "      resolve(e.target.files);\n",
              "    });\n",
              "  });\n",
              "\n",
              "  const cancel = document.createElement('button');\n",
              "  inputElement.parentElement.appendChild(cancel);\n",
              "  cancel.textContent = 'Cancel upload';\n",
              "  const cancelPromise = new Promise((resolve) => {\n",
              "    cancel.onclick = () => {\n",
              "      resolve(null);\n",
              "    };\n",
              "  });\n",
              "\n",
              "  // Wait for the user to pick the files.\n",
              "  const files = yield {\n",
              "    promise: Promise.race([pickedPromise, cancelPromise]),\n",
              "    response: {\n",
              "      action: 'starting',\n",
              "    }\n",
              "  };\n",
              "\n",
              "  cancel.remove();\n",
              "\n",
              "  // Disable the input element since further picks are not allowed.\n",
              "  inputElement.disabled = true;\n",
              "\n",
              "  if (!files) {\n",
              "    return {\n",
              "      response: {\n",
              "        action: 'complete',\n",
              "      }\n",
              "    };\n",
              "  }\n",
              "\n",
              "  for (const file of files) {\n",
              "    const li = document.createElement('li');\n",
              "    li.append(span(file.name, {fontWeight: 'bold'}));\n",
              "    li.append(span(\n",
              "        `(${file.type || 'n/a'}) - ${file.size} bytes, ` +\n",
              "        `last modified: ${\n",
              "            file.lastModifiedDate ? file.lastModifiedDate.toLocaleDateString() :\n",
              "                                    'n/a'} - `));\n",
              "    const percent = span('0% done');\n",
              "    li.appendChild(percent);\n",
              "\n",
              "    outputElement.appendChild(li);\n",
              "\n",
              "    const fileDataPromise = new Promise((resolve) => {\n",
              "      const reader = new FileReader();\n",
              "      reader.onload = (e) => {\n",
              "        resolve(e.target.result);\n",
              "      };\n",
              "      reader.readAsArrayBuffer(file);\n",
              "    });\n",
              "    // Wait for the data to be ready.\n",
              "    let fileData = yield {\n",
              "      promise: fileDataPromise,\n",
              "      response: {\n",
              "        action: 'continue',\n",
              "      }\n",
              "    };\n",
              "\n",
              "    // Use a chunked sending to avoid message size limits. See b/62115660.\n",
              "    let position = 0;\n",
              "    do {\n",
              "      const length = Math.min(fileData.byteLength - position, MAX_PAYLOAD_SIZE);\n",
              "      const chunk = new Uint8Array(fileData, position, length);\n",
              "      position += length;\n",
              "\n",
              "      const base64 = btoa(String.fromCharCode.apply(null, chunk));\n",
              "      yield {\n",
              "        response: {\n",
              "          action: 'append',\n",
              "          file: file.name,\n",
              "          data: base64,\n",
              "        },\n",
              "      };\n",
              "\n",
              "      let percentDone = fileData.byteLength === 0 ?\n",
              "          100 :\n",
              "          Math.round((position / fileData.byteLength) * 100);\n",
              "      percent.textContent = `${percentDone}% done`;\n",
              "\n",
              "    } while (position < fileData.byteLength);\n",
              "  }\n",
              "\n",
              "  // All done.\n",
              "  yield {\n",
              "    response: {\n",
              "      action: 'complete',\n",
              "    }\n",
              "  };\n",
              "}\n",
              "\n",
              "scope.google = scope.google || {};\n",
              "scope.google.colab = scope.google.colab || {};\n",
              "scope.google.colab._files = {\n",
              "  _uploadFiles,\n",
              "  _uploadFilesContinue,\n",
              "};\n",
              "})(self);\n",
              "</script> "
            ]
          },
          "metadata": {}
        },
        {
          "output_type": "stream",
          "name": "stdout",
          "text": [
            "Saving Final_df.csv to Final_df.csv\n"
          ]
        }
      ],
      "source": [
        "# This will open a widget when run that will enable you to browse the files on your local storage drive.\n",
        "# the excel file after reshaping each to 1000 records:\n",
        "uploaded = files.upload()\n"
      ]
    },
    {
      "cell_type": "code",
      "execution_count": null,
      "metadata": {
        "id": "IJpGGL2Bcxt7"
      },
      "outputs": [],
      "source": [
        "\n",
        "df_fulldata=pd.read_csv('Final_df.csv')\n",
        "\n"
      ]
    },
    {
      "cell_type": "markdown",
      "metadata": {
        "id": "sa0I1-G6665s"
      },
      "source": []
    },
    {
      "cell_type": "code",
      "execution_count": null,
      "metadata": {
        "id": "2HxpLDNqblRr"
      },
      "outputs": [],
      "source": [
        "#label encoding of tgt varaible\n",
        "tgt_map = {    'Flexion_football':0,\n",
        "               'Flexion_relaxed':1,\n",
        "               'Flexion_stiffed':2,\n",
        "               'Lateral_football':3,\n",
        "               'Lateral_relaxed':4,\n",
        "               'Lateral_stiffed':5\n",
        "              }\n",
        "df_fulldata[\"Direction\"]=df_fulldata.Direction.map(tgt_map)\n",
        "df_fulldata=df_fulldata.drop(columns=[\"time\",\"Subject\",\"Sr No\"],axis=1)\n"
      ]
    },
    {
      "cell_type": "code",
      "execution_count": null,
      "metadata": {
        "colab": {
          "base_uri": "https://localhost:8080/",
          "height": 270
        },
        "id": "yjA5zmvEdjl7",
        "outputId": "3dcad735-3b6b-4b7d-834f-e07a2f73cbfd"
      },
      "outputs": [
        {
          "output_type": "execute_result",
          "data": {
            "text/plain": [
              "   stern_mast_r  cleid_mas_r  cleid_occ_r  long_cap_sklc4_r  long_col_c1thx_r  long_col_c1c5_r  long_col_c5thx_r  trap_acr_r  splen_cerv_c3thx_r  semi_cap_sklc5_r  levator_scap_r  longissi_cap_sklc6_r  longissi_cerv_c4thx_r  iliocost_cerv_c5rib_r  rectcap_post_maj_r  rectcap_post_min_r  obl_cap_sup_r  obl_cap_inf_r  digastric_post_r  digastric_ant_r  Geniohyoid_r  Mylohyoid_Post_r  Mylohyoid_Ant_r  Stylohyoid_Lat_r  Stylohyoid_Med_r  Sterno_hyoid_r  SternoThyroid_r  Omo_hyoid_r  stern_mast_l  cleid_mast_l  cleid_occ_l  long_cap_sklc4_l  long_col_c1thx_l  long_col_c1c5_l  long_col_c5thx_l  trap_acr_l  splen_cerv_c3thx_l  semi_cap_sklc5_l  levator_scap_l  longissi_cap_sklc6_l  longissi_cerv_c4thx_l  iliocost_cerv_c5rib_l  rectcap_post_maj_l  rectcap_post_min_l  obl_cap_sup_l  obl_cap_inf_l  digastric_post_l  digastric_ant_l  Geniohyoid_l  Mylohyoid_Post_l  Mylohyoid_Ant_l  Stylohyoid_Lat_l  Stylohyoid_Med_l  Sterno_hyoid_l  SternoThyroid_l  Omo_hyoid_l  Direction\n",
              "0     15.224083     7.329898     5.640508          4.864611          1.441753         1.441705          1.432433   63.239589            7.486504          8.959424       11.147425              4.716546               3.028918               3.019896            4.552728            2.566827       5.430573       6.848087          6.066963         3.807231      5.135560          2.806027         8.418082          1.028819          1.028841        3.070743         3.441343     3.970793     15.224083      7.329898     5.640508          4.864611          1.441753         1.441705          2.096794   63.239589            7.486504          8.959424       11.147425              4.716546               3.028918               3.019896            4.552728            2.566827       5.430573       6.848087          6.066963         3.807231      5.135560          2.806027         8.418082          1.028819          1.028841        3.070743         3.192654     3.836298          1\n",
              "1     15.294100     7.383138     5.668919          4.845135          1.443353         1.443358          1.431789   64.153269            7.530222          8.956275       11.170654              4.683953               3.073223               3.091184            4.642744            2.599317       5.444150       6.846499          6.086064         3.634936      4.813947          2.750926         7.707358          1.026095          1.025724        3.120961         3.490565     4.057301     15.293540      7.382788     5.668730          4.846819          1.443342         1.443731          2.095949   64.152866            7.531798          8.957287       11.171136              4.683851               3.072262               3.090338            4.642719            2.599317       5.444150       6.846402          6.077234         3.634936      4.813947          2.750926         7.707358          1.026774          1.026485        3.120761         3.248781     3.929045          1\n",
              "2     15.556113     7.572584     5.777622          4.761932          1.450133         1.450281          1.428901   67.604876            7.702682          8.941606       11.254600              4.555209               3.242777               3.359133            5.006113            2.736847       5.501278       6.839891          6.165724         2.991366      3.735757          2.528699         5.437963          1.014227          1.012177        3.321134         3.685095     4.407076     15.553191      7.570818     5.776619          4.771020          1.450073         1.452298          2.092197   67.602681            7.711268          8.946992       11.256895              4.554699               3.237829               3.354735            5.005968            2.736847       5.501278       6.839355          6.117054         2.991366      3.735757          2.528699         5.437963          1.017676          1.016033        3.320046         3.472213     4.304494          1\n",
              "3     16.394531     8.130792     6.137115          4.464246          1.474171         1.474061          1.416581   79.355084            8.320058          8.868740       11.524764              4.150429               3.788589               4.222563            6.270702            3.235264       5.703099       6.815741          6.473187         1.331174      1.583291          1.829167         1.545704          0.969852          0.961785        4.002108         4.336987     5.627499     16.382780      8.124059     6.132962          4.502724          1.473906         1.482770          2.076518   79.345254            8.357124          8.891229       11.532705              4.148542               3.768644               4.204224            6.269907            3.235264       5.703099       6.813077          6.255273         1.331174      1.583291          1.829167         1.545704          0.982653          0.976040        3.996953         4.228476     5.611956          1\n",
              "4     17.006705     8.509748     6.406233          4.245388          1.492229         1.491614          1.405159   88.408598            8.826196          8.788806       11.733791              3.885071               4.179901               4.857880            7.244183            3.623083       5.854482       6.796429          6.754502         0.578812      0.839202          1.391145         0.409532          0.934700          0.922107        4.488563         4.793725     6.529852     16.987830      8.499200     6.399463          4.308705          1.491774         1.506215          2.062260   88.391410            8.888049          8.825851       11.745649              3.882169               4.147357               4.826888            7.242563            3.623083       5.854482       6.791366          6.380686         0.578812      0.839202          1.391145         0.409532          0.956282          0.946078        4.479075         4.762351     6.570300          1"
            ],
            "text/html": [
              "\n",
              "\n",
              "  <div id=\"df-853bb75e-7d8a-46f5-83cc-38348e625a1d\">\n",
              "    <div class=\"colab-df-container\">\n",
              "      <div>\n",
              "<style scoped>\n",
              "    .dataframe tbody tr th:only-of-type {\n",
              "        vertical-align: middle;\n",
              "    }\n",
              "\n",
              "    .dataframe tbody tr th {\n",
              "        vertical-align: top;\n",
              "    }\n",
              "\n",
              "    .dataframe thead th {\n",
              "        text-align: right;\n",
              "    }\n",
              "</style>\n",
              "<table border=\"1\" class=\"dataframe\">\n",
              "  <thead>\n",
              "    <tr style=\"text-align: right;\">\n",
              "      <th></th>\n",
              "      <th>stern_mast_r</th>\n",
              "      <th>cleid_mas_r</th>\n",
              "      <th>cleid_occ_r</th>\n",
              "      <th>long_cap_sklc4_r</th>\n",
              "      <th>long_col_c1thx_r</th>\n",
              "      <th>long_col_c1c5_r</th>\n",
              "      <th>long_col_c5thx_r</th>\n",
              "      <th>trap_acr_r</th>\n",
              "      <th>splen_cerv_c3thx_r</th>\n",
              "      <th>semi_cap_sklc5_r</th>\n",
              "      <th>levator_scap_r</th>\n",
              "      <th>longissi_cap_sklc6_r</th>\n",
              "      <th>longissi_cerv_c4thx_r</th>\n",
              "      <th>iliocost_cerv_c5rib_r</th>\n",
              "      <th>rectcap_post_maj_r</th>\n",
              "      <th>rectcap_post_min_r</th>\n",
              "      <th>obl_cap_sup_r</th>\n",
              "      <th>obl_cap_inf_r</th>\n",
              "      <th>digastric_post_r</th>\n",
              "      <th>digastric_ant_r</th>\n",
              "      <th>Geniohyoid_r</th>\n",
              "      <th>Mylohyoid_Post_r</th>\n",
              "      <th>Mylohyoid_Ant_r</th>\n",
              "      <th>Stylohyoid_Lat_r</th>\n",
              "      <th>Stylohyoid_Med_r</th>\n",
              "      <th>Sterno_hyoid_r</th>\n",
              "      <th>SternoThyroid_r</th>\n",
              "      <th>Omo_hyoid_r</th>\n",
              "      <th>stern_mast_l</th>\n",
              "      <th>cleid_mast_l</th>\n",
              "      <th>cleid_occ_l</th>\n",
              "      <th>long_cap_sklc4_l</th>\n",
              "      <th>long_col_c1thx_l</th>\n",
              "      <th>long_col_c1c5_l</th>\n",
              "      <th>long_col_c5thx_l</th>\n",
              "      <th>trap_acr_l</th>\n",
              "      <th>splen_cerv_c3thx_l</th>\n",
              "      <th>semi_cap_sklc5_l</th>\n",
              "      <th>levator_scap_l</th>\n",
              "      <th>longissi_cap_sklc6_l</th>\n",
              "      <th>longissi_cerv_c4thx_l</th>\n",
              "      <th>iliocost_cerv_c5rib_l</th>\n",
              "      <th>rectcap_post_maj_l</th>\n",
              "      <th>rectcap_post_min_l</th>\n",
              "      <th>obl_cap_sup_l</th>\n",
              "      <th>obl_cap_inf_l</th>\n",
              "      <th>digastric_post_l</th>\n",
              "      <th>digastric_ant_l</th>\n",
              "      <th>Geniohyoid_l</th>\n",
              "      <th>Mylohyoid_Post_l</th>\n",
              "      <th>Mylohyoid_Ant_l</th>\n",
              "      <th>Stylohyoid_Lat_l</th>\n",
              "      <th>Stylohyoid_Med_l</th>\n",
              "      <th>Sterno_hyoid_l</th>\n",
              "      <th>SternoThyroid_l</th>\n",
              "      <th>Omo_hyoid_l</th>\n",
              "      <th>Direction</th>\n",
              "    </tr>\n",
              "  </thead>\n",
              "  <tbody>\n",
              "    <tr>\n",
              "      <th>0</th>\n",
              "      <td>15.224083</td>\n",
              "      <td>7.329898</td>\n",
              "      <td>5.640508</td>\n",
              "      <td>4.864611</td>\n",
              "      <td>1.441753</td>\n",
              "      <td>1.441705</td>\n",
              "      <td>1.432433</td>\n",
              "      <td>63.239589</td>\n",
              "      <td>7.486504</td>\n",
              "      <td>8.959424</td>\n",
              "      <td>11.147425</td>\n",
              "      <td>4.716546</td>\n",
              "      <td>3.028918</td>\n",
              "      <td>3.019896</td>\n",
              "      <td>4.552728</td>\n",
              "      <td>2.566827</td>\n",
              "      <td>5.430573</td>\n",
              "      <td>6.848087</td>\n",
              "      <td>6.066963</td>\n",
              "      <td>3.807231</td>\n",
              "      <td>5.135560</td>\n",
              "      <td>2.806027</td>\n",
              "      <td>8.418082</td>\n",
              "      <td>1.028819</td>\n",
              "      <td>1.028841</td>\n",
              "      <td>3.070743</td>\n",
              "      <td>3.441343</td>\n",
              "      <td>3.970793</td>\n",
              "      <td>15.224083</td>\n",
              "      <td>7.329898</td>\n",
              "      <td>5.640508</td>\n",
              "      <td>4.864611</td>\n",
              "      <td>1.441753</td>\n",
              "      <td>1.441705</td>\n",
              "      <td>2.096794</td>\n",
              "      <td>63.239589</td>\n",
              "      <td>7.486504</td>\n",
              "      <td>8.959424</td>\n",
              "      <td>11.147425</td>\n",
              "      <td>4.716546</td>\n",
              "      <td>3.028918</td>\n",
              "      <td>3.019896</td>\n",
              "      <td>4.552728</td>\n",
              "      <td>2.566827</td>\n",
              "      <td>5.430573</td>\n",
              "      <td>6.848087</td>\n",
              "      <td>6.066963</td>\n",
              "      <td>3.807231</td>\n",
              "      <td>5.135560</td>\n",
              "      <td>2.806027</td>\n",
              "      <td>8.418082</td>\n",
              "      <td>1.028819</td>\n",
              "      <td>1.028841</td>\n",
              "      <td>3.070743</td>\n",
              "      <td>3.192654</td>\n",
              "      <td>3.836298</td>\n",
              "      <td>1</td>\n",
              "    </tr>\n",
              "    <tr>\n",
              "      <th>1</th>\n",
              "      <td>15.294100</td>\n",
              "      <td>7.383138</td>\n",
              "      <td>5.668919</td>\n",
              "      <td>4.845135</td>\n",
              "      <td>1.443353</td>\n",
              "      <td>1.443358</td>\n",
              "      <td>1.431789</td>\n",
              "      <td>64.153269</td>\n",
              "      <td>7.530222</td>\n",
              "      <td>8.956275</td>\n",
              "      <td>11.170654</td>\n",
              "      <td>4.683953</td>\n",
              "      <td>3.073223</td>\n",
              "      <td>3.091184</td>\n",
              "      <td>4.642744</td>\n",
              "      <td>2.599317</td>\n",
              "      <td>5.444150</td>\n",
              "      <td>6.846499</td>\n",
              "      <td>6.086064</td>\n",
              "      <td>3.634936</td>\n",
              "      <td>4.813947</td>\n",
              "      <td>2.750926</td>\n",
              "      <td>7.707358</td>\n",
              "      <td>1.026095</td>\n",
              "      <td>1.025724</td>\n",
              "      <td>3.120961</td>\n",
              "      <td>3.490565</td>\n",
              "      <td>4.057301</td>\n",
              "      <td>15.293540</td>\n",
              "      <td>7.382788</td>\n",
              "      <td>5.668730</td>\n",
              "      <td>4.846819</td>\n",
              "      <td>1.443342</td>\n",
              "      <td>1.443731</td>\n",
              "      <td>2.095949</td>\n",
              "      <td>64.152866</td>\n",
              "      <td>7.531798</td>\n",
              "      <td>8.957287</td>\n",
              "      <td>11.171136</td>\n",
              "      <td>4.683851</td>\n",
              "      <td>3.072262</td>\n",
              "      <td>3.090338</td>\n",
              "      <td>4.642719</td>\n",
              "      <td>2.599317</td>\n",
              "      <td>5.444150</td>\n",
              "      <td>6.846402</td>\n",
              "      <td>6.077234</td>\n",
              "      <td>3.634936</td>\n",
              "      <td>4.813947</td>\n",
              "      <td>2.750926</td>\n",
              "      <td>7.707358</td>\n",
              "      <td>1.026774</td>\n",
              "      <td>1.026485</td>\n",
              "      <td>3.120761</td>\n",
              "      <td>3.248781</td>\n",
              "      <td>3.929045</td>\n",
              "      <td>1</td>\n",
              "    </tr>\n",
              "    <tr>\n",
              "      <th>2</th>\n",
              "      <td>15.556113</td>\n",
              "      <td>7.572584</td>\n",
              "      <td>5.777622</td>\n",
              "      <td>4.761932</td>\n",
              "      <td>1.450133</td>\n",
              "      <td>1.450281</td>\n",
              "      <td>1.428901</td>\n",
              "      <td>67.604876</td>\n",
              "      <td>7.702682</td>\n",
              "      <td>8.941606</td>\n",
              "      <td>11.254600</td>\n",
              "      <td>4.555209</td>\n",
              "      <td>3.242777</td>\n",
              "      <td>3.359133</td>\n",
              "      <td>5.006113</td>\n",
              "      <td>2.736847</td>\n",
              "      <td>5.501278</td>\n",
              "      <td>6.839891</td>\n",
              "      <td>6.165724</td>\n",
              "      <td>2.991366</td>\n",
              "      <td>3.735757</td>\n",
              "      <td>2.528699</td>\n",
              "      <td>5.437963</td>\n",
              "      <td>1.014227</td>\n",
              "      <td>1.012177</td>\n",
              "      <td>3.321134</td>\n",
              "      <td>3.685095</td>\n",
              "      <td>4.407076</td>\n",
              "      <td>15.553191</td>\n",
              "      <td>7.570818</td>\n",
              "      <td>5.776619</td>\n",
              "      <td>4.771020</td>\n",
              "      <td>1.450073</td>\n",
              "      <td>1.452298</td>\n",
              "      <td>2.092197</td>\n",
              "      <td>67.602681</td>\n",
              "      <td>7.711268</td>\n",
              "      <td>8.946992</td>\n",
              "      <td>11.256895</td>\n",
              "      <td>4.554699</td>\n",
              "      <td>3.237829</td>\n",
              "      <td>3.354735</td>\n",
              "      <td>5.005968</td>\n",
              "      <td>2.736847</td>\n",
              "      <td>5.501278</td>\n",
              "      <td>6.839355</td>\n",
              "      <td>6.117054</td>\n",
              "      <td>2.991366</td>\n",
              "      <td>3.735757</td>\n",
              "      <td>2.528699</td>\n",
              "      <td>5.437963</td>\n",
              "      <td>1.017676</td>\n",
              "      <td>1.016033</td>\n",
              "      <td>3.320046</td>\n",
              "      <td>3.472213</td>\n",
              "      <td>4.304494</td>\n",
              "      <td>1</td>\n",
              "    </tr>\n",
              "    <tr>\n",
              "      <th>3</th>\n",
              "      <td>16.394531</td>\n",
              "      <td>8.130792</td>\n",
              "      <td>6.137115</td>\n",
              "      <td>4.464246</td>\n",
              "      <td>1.474171</td>\n",
              "      <td>1.474061</td>\n",
              "      <td>1.416581</td>\n",
              "      <td>79.355084</td>\n",
              "      <td>8.320058</td>\n",
              "      <td>8.868740</td>\n",
              "      <td>11.524764</td>\n",
              "      <td>4.150429</td>\n",
              "      <td>3.788589</td>\n",
              "      <td>4.222563</td>\n",
              "      <td>6.270702</td>\n",
              "      <td>3.235264</td>\n",
              "      <td>5.703099</td>\n",
              "      <td>6.815741</td>\n",
              "      <td>6.473187</td>\n",
              "      <td>1.331174</td>\n",
              "      <td>1.583291</td>\n",
              "      <td>1.829167</td>\n",
              "      <td>1.545704</td>\n",
              "      <td>0.969852</td>\n",
              "      <td>0.961785</td>\n",
              "      <td>4.002108</td>\n",
              "      <td>4.336987</td>\n",
              "      <td>5.627499</td>\n",
              "      <td>16.382780</td>\n",
              "      <td>8.124059</td>\n",
              "      <td>6.132962</td>\n",
              "      <td>4.502724</td>\n",
              "      <td>1.473906</td>\n",
              "      <td>1.482770</td>\n",
              "      <td>2.076518</td>\n",
              "      <td>79.345254</td>\n",
              "      <td>8.357124</td>\n",
              "      <td>8.891229</td>\n",
              "      <td>11.532705</td>\n",
              "      <td>4.148542</td>\n",
              "      <td>3.768644</td>\n",
              "      <td>4.204224</td>\n",
              "      <td>6.269907</td>\n",
              "      <td>3.235264</td>\n",
              "      <td>5.703099</td>\n",
              "      <td>6.813077</td>\n",
              "      <td>6.255273</td>\n",
              "      <td>1.331174</td>\n",
              "      <td>1.583291</td>\n",
              "      <td>1.829167</td>\n",
              "      <td>1.545704</td>\n",
              "      <td>0.982653</td>\n",
              "      <td>0.976040</td>\n",
              "      <td>3.996953</td>\n",
              "      <td>4.228476</td>\n",
              "      <td>5.611956</td>\n",
              "      <td>1</td>\n",
              "    </tr>\n",
              "    <tr>\n",
              "      <th>4</th>\n",
              "      <td>17.006705</td>\n",
              "      <td>8.509748</td>\n",
              "      <td>6.406233</td>\n",
              "      <td>4.245388</td>\n",
              "      <td>1.492229</td>\n",
              "      <td>1.491614</td>\n",
              "      <td>1.405159</td>\n",
              "      <td>88.408598</td>\n",
              "      <td>8.826196</td>\n",
              "      <td>8.788806</td>\n",
              "      <td>11.733791</td>\n",
              "      <td>3.885071</td>\n",
              "      <td>4.179901</td>\n",
              "      <td>4.857880</td>\n",
              "      <td>7.244183</td>\n",
              "      <td>3.623083</td>\n",
              "      <td>5.854482</td>\n",
              "      <td>6.796429</td>\n",
              "      <td>6.754502</td>\n",
              "      <td>0.578812</td>\n",
              "      <td>0.839202</td>\n",
              "      <td>1.391145</td>\n",
              "      <td>0.409532</td>\n",
              "      <td>0.934700</td>\n",
              "      <td>0.922107</td>\n",
              "      <td>4.488563</td>\n",
              "      <td>4.793725</td>\n",
              "      <td>6.529852</td>\n",
              "      <td>16.987830</td>\n",
              "      <td>8.499200</td>\n",
              "      <td>6.399463</td>\n",
              "      <td>4.308705</td>\n",
              "      <td>1.491774</td>\n",
              "      <td>1.506215</td>\n",
              "      <td>2.062260</td>\n",
              "      <td>88.391410</td>\n",
              "      <td>8.888049</td>\n",
              "      <td>8.825851</td>\n",
              "      <td>11.745649</td>\n",
              "      <td>3.882169</td>\n",
              "      <td>4.147357</td>\n",
              "      <td>4.826888</td>\n",
              "      <td>7.242563</td>\n",
              "      <td>3.623083</td>\n",
              "      <td>5.854482</td>\n",
              "      <td>6.791366</td>\n",
              "      <td>6.380686</td>\n",
              "      <td>0.578812</td>\n",
              "      <td>0.839202</td>\n",
              "      <td>1.391145</td>\n",
              "      <td>0.409532</td>\n",
              "      <td>0.956282</td>\n",
              "      <td>0.946078</td>\n",
              "      <td>4.479075</td>\n",
              "      <td>4.762351</td>\n",
              "      <td>6.570300</td>\n",
              "      <td>1</td>\n",
              "    </tr>\n",
              "  </tbody>\n",
              "</table>\n",
              "</div>\n",
              "      <button class=\"colab-df-convert\" onclick=\"convertToInteractive('df-853bb75e-7d8a-46f5-83cc-38348e625a1d')\"\n",
              "              title=\"Convert this dataframe to an interactive table.\"\n",
              "              style=\"display:none;\">\n",
              "\n",
              "  <svg xmlns=\"http://www.w3.org/2000/svg\" height=\"24px\"viewBox=\"0 0 24 24\"\n",
              "       width=\"24px\">\n",
              "    <path d=\"M0 0h24v24H0V0z\" fill=\"none\"/>\n",
              "    <path d=\"M18.56 5.44l.94 2.06.94-2.06 2.06-.94-2.06-.94-.94-2.06-.94 2.06-2.06.94zm-11 1L8.5 8.5l.94-2.06 2.06-.94-2.06-.94L8.5 2.5l-.94 2.06-2.06.94zm10 10l.94 2.06.94-2.06 2.06-.94-2.06-.94-.94-2.06-.94 2.06-2.06.94z\"/><path d=\"M17.41 7.96l-1.37-1.37c-.4-.4-.92-.59-1.43-.59-.52 0-1.04.2-1.43.59L10.3 9.45l-7.72 7.72c-.78.78-.78 2.05 0 2.83L4 21.41c.39.39.9.59 1.41.59.51 0 1.02-.2 1.41-.59l7.78-7.78 2.81-2.81c.8-.78.8-2.07 0-2.86zM5.41 20L4 18.59l7.72-7.72 1.47 1.35L5.41 20z\"/>\n",
              "  </svg>\n",
              "      </button>\n",
              "\n",
              "\n",
              "\n",
              "    <div id=\"df-cab7eccd-fa04-4ccb-ad99-5dfc14c39e0b\">\n",
              "      <button class=\"colab-df-quickchart\" onclick=\"quickchart('df-cab7eccd-fa04-4ccb-ad99-5dfc14c39e0b')\"\n",
              "              title=\"Suggest charts.\"\n",
              "              style=\"display:none;\">\n",
              "\n",
              "<svg xmlns=\"http://www.w3.org/2000/svg\" height=\"24px\"viewBox=\"0 0 24 24\"\n",
              "     width=\"24px\">\n",
              "    <g>\n",
              "        <path d=\"M19 3H5c-1.1 0-2 .9-2 2v14c0 1.1.9 2 2 2h14c1.1 0 2-.9 2-2V5c0-1.1-.9-2-2-2zM9 17H7v-7h2v7zm4 0h-2V7h2v10zm4 0h-2v-4h2v4z\"/>\n",
              "    </g>\n",
              "</svg>\n",
              "      </button>\n",
              "    </div>\n",
              "\n",
              "<style>\n",
              "  .colab-df-quickchart {\n",
              "    background-color: #E8F0FE;\n",
              "    border: none;\n",
              "    border-radius: 50%;\n",
              "    cursor: pointer;\n",
              "    display: none;\n",
              "    fill: #1967D2;\n",
              "    height: 32px;\n",
              "    padding: 0 0 0 0;\n",
              "    width: 32px;\n",
              "  }\n",
              "\n",
              "  .colab-df-quickchart:hover {\n",
              "    background-color: #E2EBFA;\n",
              "    box-shadow: 0px 1px 2px rgba(60, 64, 67, 0.3), 0px 1px 3px 1px rgba(60, 64, 67, 0.15);\n",
              "    fill: #174EA6;\n",
              "  }\n",
              "\n",
              "  [theme=dark] .colab-df-quickchart {\n",
              "    background-color: #3B4455;\n",
              "    fill: #D2E3FC;\n",
              "  }\n",
              "\n",
              "  [theme=dark] .colab-df-quickchart:hover {\n",
              "    background-color: #434B5C;\n",
              "    box-shadow: 0px 1px 3px 1px rgba(0, 0, 0, 0.15);\n",
              "    filter: drop-shadow(0px 1px 2px rgba(0, 0, 0, 0.3));\n",
              "    fill: #FFFFFF;\n",
              "  }\n",
              "</style>\n",
              "\n",
              "    <script>\n",
              "      async function quickchart(key) {\n",
              "        const containerElement = document.querySelector('#' + key);\n",
              "        const charts = await google.colab.kernel.invokeFunction(\n",
              "            'suggestCharts', [key], {});\n",
              "      }\n",
              "    </script>\n",
              "\n",
              "      <script>\n",
              "\n",
              "function displayQuickchartButton(domScope) {\n",
              "  let quickchartButtonEl =\n",
              "    domScope.querySelector('#df-cab7eccd-fa04-4ccb-ad99-5dfc14c39e0b button.colab-df-quickchart');\n",
              "  quickchartButtonEl.style.display =\n",
              "    google.colab.kernel.accessAllowed ? 'block' : 'none';\n",
              "}\n",
              "\n",
              "        displayQuickchartButton(document);\n",
              "      </script>\n",
              "      <style>\n",
              "    .colab-df-container {\n",
              "      display:flex;\n",
              "      flex-wrap:wrap;\n",
              "      gap: 12px;\n",
              "    }\n",
              "\n",
              "    .colab-df-convert {\n",
              "      background-color: #E8F0FE;\n",
              "      border: none;\n",
              "      border-radius: 50%;\n",
              "      cursor: pointer;\n",
              "      display: none;\n",
              "      fill: #1967D2;\n",
              "      height: 32px;\n",
              "      padding: 0 0 0 0;\n",
              "      width: 32px;\n",
              "    }\n",
              "\n",
              "    .colab-df-convert:hover {\n",
              "      background-color: #E2EBFA;\n",
              "      box-shadow: 0px 1px 2px rgba(60, 64, 67, 0.3), 0px 1px 3px 1px rgba(60, 64, 67, 0.15);\n",
              "      fill: #174EA6;\n",
              "    }\n",
              "\n",
              "    [theme=dark] .colab-df-convert {\n",
              "      background-color: #3B4455;\n",
              "      fill: #D2E3FC;\n",
              "    }\n",
              "\n",
              "    [theme=dark] .colab-df-convert:hover {\n",
              "      background-color: #434B5C;\n",
              "      box-shadow: 0px 1px 3px 1px rgba(0, 0, 0, 0.15);\n",
              "      filter: drop-shadow(0px 1px 2px rgba(0, 0, 0, 0.3));\n",
              "      fill: #FFFFFF;\n",
              "    }\n",
              "  </style>\n",
              "\n",
              "      <script>\n",
              "        const buttonEl =\n",
              "          document.querySelector('#df-853bb75e-7d8a-46f5-83cc-38348e625a1d button.colab-df-convert');\n",
              "        buttonEl.style.display =\n",
              "          google.colab.kernel.accessAllowed ? 'block' : 'none';\n",
              "\n",
              "        async function convertToInteractive(key) {\n",
              "          const element = document.querySelector('#df-853bb75e-7d8a-46f5-83cc-38348e625a1d');\n",
              "          const dataTable =\n",
              "            await google.colab.kernel.invokeFunction('convertToInteractive',\n",
              "                                                     [key], {});\n",
              "          if (!dataTable) return;\n",
              "\n",
              "          const docLinkHtml = 'Like what you see? Visit the ' +\n",
              "            '<a target=\"_blank\" href=https://colab.research.google.com/notebooks/data_table.ipynb>data table notebook</a>'\n",
              "            + ' to learn more about interactive tables.';\n",
              "          element.innerHTML = '';\n",
              "          dataTable['output_type'] = 'display_data';\n",
              "          await google.colab.output.renderOutput(dataTable, element);\n",
              "          const docLink = document.createElement('div');\n",
              "          docLink.innerHTML = docLinkHtml;\n",
              "          element.appendChild(docLink);\n",
              "        }\n",
              "      </script>\n",
              "    </div>\n",
              "  </div>\n"
            ]
          },
          "metadata": {},
          "execution_count": 5
        }
      ],
      "source": [
        "df_fulldata.head()"
      ]
    },
    {
      "cell_type": "code",
      "execution_count": null,
      "metadata": {
        "colab": {
          "base_uri": "https://localhost:8080/"
        },
        "id": "8TxZTXoIdXxo",
        "outputId": "a25d49b9-c49f-4b63-9eae-eba9ad4cd16d"
      },
      "outputs": [
        {
          "output_type": "execute_result",
          "data": {
            "text/plain": [
              "1    10000\n",
              "2    10000\n",
              "3    10000\n",
              "4    10000\n",
              "5    10000\n",
              "0    10000\n",
              "Name: Direction, dtype: int64"
            ]
          },
          "metadata": {},
          "execution_count": 6
        }
      ],
      "source": [
        "x=df_fulldata.drop(columns=['Direction'])\n",
        "y=df_fulldata['Direction']\n",
        "df_fulldata['Direction'].value_counts()"
      ]
    },
    {
      "cell_type": "code",
      "execution_count": null,
      "metadata": {
        "id": "eibiHjL0yDcU"
      },
      "outputs": [],
      "source": [
        "# method 1:Feature selection:Corr() -Create correlation matrix\n",
        "#corr_matrix = df_fulldata.corr().abs()\n",
        "# Select upper triangle of correlation matrix\n",
        "#upper = corr_matrix.where(np.triu(np.ones(corr_matrix.shape), k=1).astype(bool))\n",
        "# Find features with correlation greater than 0.95\n",
        "#to_drop = [column for column in upper.columns if any(upper[column] > 0.95)]\n",
        "#print(\"the no of columns to be removed=\",len(to_drop))\n",
        "# Drop features\n",
        "#df_fulldata.drop(to_drop, axis=1, inplace=True)"
      ]
    },
    {
      "cell_type": "code",
      "execution_count": null,
      "metadata": {
        "colab": {
          "base_uri": "https://localhost:8080/"
        },
        "id": "5fqfPomq39rT",
        "outputId": "e134d261-c0fa-481f-b453-bc1d0cf40793"
      },
      "outputs": [
        {
          "output_type": "execute_result",
          "data": {
            "text/plain": [
              "(60000, 30)"
            ]
          },
          "metadata": {},
          "execution_count": 8
        }
      ],
      "source": [
        "#method 2:Feature selection:PCA\n",
        "#standard before doing PCA for reducing dimensions:\n",
        "from sklearn.preprocessing import StandardScaler\n",
        "scalar=StandardScaler()\n",
        "scalar.fit(x)\n",
        "scaled_data = scalar.transform(x)\n",
        "\n",
        "\n",
        "from sklearn.decomposition import PCA\n",
        "pca = PCA(n_components=30)\n",
        "pca.fit(scaled_data)\n",
        "x_pca = pca.transform(scaled_data)\n",
        "scaled_data.shape\n",
        "x_pca.shape"
      ]
    },
    {
      "cell_type": "markdown",
      "metadata": {
        "id": "5lC69-LP2xLa"
      },
      "source": [
        "#plots visuvalization:\n",
        "plots=x\n",
        "\n",
        "for i in plots.columns:\n",
        "    plt.figure(figsize=(4,2))\n",
        "    sns.kdeplot(plots[i])\n",
        "    plt.axvline(x=plots[i].mean(),\n",
        "            color='red')\n",
        "    print(\"the mean is\",plots[i].mean())\n",
        "    print(\"the median is\",plots[i].median())\n",
        "    plt.axvline(x=plots[i].median(),\n",
        "            color='blue',ls='--', lw=2.5)\n",
        "\n",
        "    plt.show()\n"
      ]
    },
    {
      "cell_type": "code",
      "execution_count": null,
      "metadata": {
        "id": "reF3PZTs2yRX"
      },
      "outputs": [],
      "source": [
        "#df=x.replace(0,np.NaN)\n",
        "#df.isnull().sum().sort_values(ascending = False)/len(df)*100"
      ]
    },
    {
      "cell_type": "code",
      "execution_count": null,
      "metadata": {
        "id": "BcIftGgCcm-m"
      },
      "outputs": [],
      "source": [
        "#Missing values inputation:\n",
        "#numerical_cols=list(df.select_dtypes(exclude=\"object\").columns)\n",
        "#for i in df[numerical_cols]:\n",
        " #         df[i].replace(np.nan, df[i].median(),inplace=True)"
      ]
    },
    {
      "cell_type": "code",
      "execution_count": null,
      "metadata": {
        "colab": {
          "base_uri": "https://localhost:8080/"
        },
        "id": "du0C0QHUfKlN",
        "outputId": "b6dce174-16d5-486e-b8d0-29aa5af97cf7"
      },
      "outputs": [
        {
          "output_type": "stream",
          "name": "stdout",
          "text": [
            "x_train shape is (48000, 30)\n",
            "y_train shape is (48000,)\n",
            "x_test shape is (12000, 30)\n",
            "y_test shape is (12000,)\n"
          ]
        }
      ],
      "source": [
        "from sklearn.model_selection import train_test_split\n",
        "x_train, x_test, y_train, y_test = train_test_split(x_pca, y, test_size = 0.20, stratify = y, random_state = 43,shuffle=True)\n",
        "\n",
        "print(\"x_train shape is\",x_train.shape)\n",
        "print(\"y_train shape is\",y_train.shape)\n",
        "\n",
        "print(\"x_test shape is\",x_test.shape)\n",
        "print(\"y_test shape is\",y_test.shape)"
      ]
    },
    {
      "cell_type": "markdown",
      "metadata": {
        "id": "APM4B1lZ7a31"
      },
      "source": [
        "7 Models selected for train and test"
      ]
    },
    {
      "cell_type": "code",
      "execution_count": null,
      "metadata": {
        "id": "wKr8ct68ijEH"
      },
      "outputs": [],
      "source": [
        "#Classification Metrics:\n",
        "\n",
        "def prediction(x_train,y_train,x_test,y_test,y_train_predict,y_test_predict):\n",
        "\n",
        "  #Accuracy Check of Train\n",
        "  train_accuracy = metrics.accuracy_score(y_train,y_train_predict)\n",
        "  print(\"The Train Accuracy:\",round(train_accuracy,3))\n",
        "\n",
        "# Accuracy Check of Test\n",
        "  test_accuracy = metrics.accuracy_score(y_test,y_test_predict)\n",
        "  print(\"The Test Accuracy\",round(test_accuracy,4))\n",
        "\n",
        "\n",
        "  return train_accuracy,test_accuracy"
      ]
    },
    {
      "cell_type": "code",
      "execution_count": null,
      "metadata": {
        "id": "5Ii_jBM2isLT",
        "colab": {
          "base_uri": "https://localhost:8080/"
        },
        "outputId": "7a549d96-aafc-463d-d025-e4efde3d84bf"
      },
      "outputs": [
        {
          "output_type": "stream",
          "name": "stdout",
          "text": [
            "the Train and Test accuracy of Logistic regressison\n",
            "The Train Accuracy: 0.95\n",
            "The Test Accuracy 0.9517\n"
          ]
        }
      ],
      "source": [
        "#1)Logistic regressison\n",
        "\n",
        "logisticRegr = LogisticRegression()\n",
        "logisticRegr.fit(x_train, y_train)\n",
        "y_train_predict = logisticRegr.predict(x_train)\n",
        "y_test_predict = logisticRegr.predict(x_test)\n",
        "\n",
        "print(\"the Train and Test accuracy of Logistic regressison\")\n",
        "lr_train_accuracy, lr_test_accuracy=prediction(x_train,y_train,x_test,y_test,y_train_predict,y_test_predict)"
      ]
    },
    {
      "cell_type": "code",
      "execution_count": null,
      "metadata": {
        "id": "6DefV54kiuJ9",
        "colab": {
          "base_uri": "https://localhost:8080/"
        },
        "outputId": "80bc360c-c049-499e-a3ff-881e27430ef1"
      },
      "outputs": [
        {
          "output_type": "stream",
          "name": "stdout",
          "text": [
            "the Train and Test accuracy of Decision Tree\n",
            "The Train Accuracy: 0.995\n",
            "The Test Accuracy 0.9816\n"
          ]
        }
      ],
      "source": [
        "#2) Base Decision Tree\n",
        "from sklearn.tree import DecisionTreeClassifier\n",
        "DT = DecisionTreeClassifier(random_state= 101)\n",
        "DT.fit(x_train,y_train)\n",
        "y_train_predict = DT.predict(x_train)\n",
        "y_test_predict = DT.predict(x_test)\n",
        "\n",
        "print(\"the Train and Test accuracy of Decision Tree\")\n",
        "DT_train_accuracy, DT_test_accuracy=prediction(x_train,y_train,x_test,y_test,y_train_predict,y_test_predict)\n"
      ]
    },
    {
      "cell_type": "code",
      "execution_count": null,
      "metadata": {
        "id": "Y0rc0litBC6D",
        "colab": {
          "base_uri": "https://localhost:8080/"
        },
        "outputId": "2bde637f-632c-4552-afac-6aeb85d48283"
      },
      "outputs": [
        {
          "output_type": "stream",
          "name": "stdout",
          "text": [
            "the Train and Test accuracy of RandomForestClassifier\n",
            "The Train Accuracy: 0.989\n",
            "The Test Accuracy 0.9862\n"
          ]
        }
      ],
      "source": [
        "#3)RandomForestClassifier\n",
        "\n",
        "from sklearn.ensemble import RandomForestClassifier\n",
        "rf_model = RandomForestClassifier(n_estimators=10,criterion='gini',max_depth=10,random_state=0)\n",
        "rf_model.fit(x_train, y_train)\n",
        "y_train_predict = rf_model.predict(x_train)\n",
        "y_test_predict = rf_model.predict(x_test)\n",
        "\n",
        "print(\"the Train and Test accuracy of RandomForestClassifier\")\n",
        "RF_train_accuracy, RF_test_accuracy=prediction(x_train,y_train,x_test,y_test,y_train_predict,y_test_predict)"
      ]
    },
    {
      "cell_type": "code",
      "execution_count": null,
      "metadata": {
        "id": "qPvU1jKNOmpT",
        "colab": {
          "base_uri": "https://localhost:8080/"
        },
        "outputId": "694bfcf9-dbd0-4944-8ce4-f5ac3d93e021"
      },
      "outputs": [
        {
          "output_type": "stream",
          "name": "stdout",
          "text": [
            "the Train and Test accuracy of XG Boost calssifier \n",
            "The Train Accuracy: 0.996\n",
            "The Test Accuracy 0.9842\n"
          ]
        }
      ],
      "source": [
        "#4) XG Boost calssifier\n",
        "import xgboost as xgb\n",
        "xgb_classifier = xgb.XGBClassifier()\n",
        "\n",
        "xgb_classifier.fit(x_train, y_train)\n",
        "y_train_predict = xgb_classifier.predict(x_train)\n",
        "y_test_predict = xgb_classifier.predict(x_test)\n",
        "\n",
        "print(\"the Train and Test accuracy of XG Boost calssifier \")\n",
        "XGB_train_accuracy, XGB_test_accuracy=prediction(x_train,y_train,x_test,y_test,y_train_predict,y_test_predict)"
      ]
    },
    {
      "cell_type": "code",
      "execution_count": null,
      "metadata": {
        "id": "UUxO8WZOO8Yj",
        "colab": {
          "base_uri": "https://localhost:8080/"
        },
        "outputId": "be4b6578-e50a-4bf5-988c-936beb58ff3c"
      },
      "outputs": [
        {
          "output_type": "stream",
          "name": "stdout",
          "text": [
            "the Train and Test accuracy of KNN Algorithm \n",
            "The Train Accuracy: 0.987\n",
            "The Test Accuracy 0.9848\n"
          ]
        }
      ],
      "source": [
        "#5) KNN Algorithm\n",
        "from sklearn.neighbors import KNeighborsClassifier\n",
        "knn = KNeighborsClassifier(n_neighbors=9)\n",
        "knn.fit(x_train, y_train)\n",
        "y_train_predict = knn.predict(x_train)\n",
        "y_test_predict = knn.predict(x_test)\n",
        "\n",
        "print(\"the Train and Test accuracy of KNN Algorithm \")\n",
        "KNN_train_accuracy, KNN_test_accuracy=prediction(x_train,y_train,x_test,y_test,y_train_predict,y_test_predict)"
      ]
    },
    {
      "cell_type": "code",
      "execution_count": null,
      "metadata": {
        "id": "xIdvk_U-iwMe",
        "colab": {
          "base_uri": "https://localhost:8080/"
        },
        "outputId": "e6d5cfa8-9546-4a90-aeab-9fd99babb660"
      },
      "outputs": [
        {
          "output_type": "stream",
          "name": "stdout",
          "text": [
            "          LR Train  LR Test  DT Train  DT Test  RF Train  RF Test  xgb Train  xgb Test  knn Train  knn Test\n",
            "Accuracy    0.9501   0.9517     0.995   0.9816    0.9892   0.9862     0.9959    0.9842     0.9872    0.9848\n"
          ]
        }
      ],
      "source": [
        "#Comparison dataframe\n",
        "index=[\"Accuracy\"]\n",
        "data = pd.DataFrame({'LR Train':[lr_train_accuracy],\n",
        "                     'LR Test':[lr_test_accuracy],\n",
        "\n",
        "                     'DT Train':[DT_train_accuracy],\n",
        "                     'DT Test':[DT_test_accuracy],\n",
        "\n",
        "                     'RF Train':[RF_train_accuracy],\n",
        "                     'RF Test':[RF_test_accuracy],\n",
        "\n",
        "                     'xgb Train':[XGB_train_accuracy],\n",
        "                     'xgb Test':[XGB_test_accuracy],\n",
        "\n",
        "                     'knn Train':[KNN_train_accuracy],\n",
        "                     'knn Test':[KNN_test_accuracy],\n",
        "\n",
        "                     },index=index)\n",
        "\n",
        "print(round(data,4))\n",
        "\n"
      ]
    },
    {
      "cell_type": "code",
      "source": [
        "#mean_accuracy_list\n",
        "results_before_cv = pd.DataFrame({\n",
        "    'Model': ['Logistic Regresssion', 'Decision Tree', 'Random Forest','K nearest',\"xgb\"],\n",
        "    'Score_test': [lr_test_accuracy, DT_test_accuracy, RF_test_accuracy,KNN_test_accuracy,XGB_test_accuracy],\n",
        "    'Score_train': [lr_train_accuracy, DT_train_accuracy, RF_train_accuracy,KNN_train_accuracy,XGB_train_accuracy]})\n",
        "results_before_cv = results_before_cv.sort_values(by='Score_test', ascending=False)\n",
        "\n",
        "results_before_cv = results_before_cv.set_index('Model')\n",
        "results_before_cv.head(9)"
      ],
      "metadata": {
        "colab": {
          "base_uri": "https://localhost:8080/",
          "height": 238
        },
        "id": "kUgTrbP49-90",
        "outputId": "01637935-d33b-4dd9-fe66-5042ecffaf42"
      },
      "execution_count": null,
      "outputs": [
        {
          "output_type": "execute_result",
          "data": {
            "text/plain": [
              "                      Score_test  Score_train\n",
              "Model                                        \n",
              "Random Forest           0.986250     0.989187\n",
              "K nearest               0.984750     0.987208\n",
              "xgb                     0.984250     0.995938\n",
              "Decision Tree           0.981583     0.995042\n",
              "Logistic Regresssion    0.951667     0.950146"
            ],
            "text/html": [
              "\n",
              "\n",
              "  <div id=\"df-88cf2c7a-8dc7-4763-9ba2-d4dd1c840ce1\">\n",
              "    <div class=\"colab-df-container\">\n",
              "      <div>\n",
              "<style scoped>\n",
              "    .dataframe tbody tr th:only-of-type {\n",
              "        vertical-align: middle;\n",
              "    }\n",
              "\n",
              "    .dataframe tbody tr th {\n",
              "        vertical-align: top;\n",
              "    }\n",
              "\n",
              "    .dataframe thead th {\n",
              "        text-align: right;\n",
              "    }\n",
              "</style>\n",
              "<table border=\"1\" class=\"dataframe\">\n",
              "  <thead>\n",
              "    <tr style=\"text-align: right;\">\n",
              "      <th></th>\n",
              "      <th>Score_test</th>\n",
              "      <th>Score_train</th>\n",
              "    </tr>\n",
              "    <tr>\n",
              "      <th>Model</th>\n",
              "      <th></th>\n",
              "      <th></th>\n",
              "    </tr>\n",
              "  </thead>\n",
              "  <tbody>\n",
              "    <tr>\n",
              "      <th>Random Forest</th>\n",
              "      <td>0.986250</td>\n",
              "      <td>0.989187</td>\n",
              "    </tr>\n",
              "    <tr>\n",
              "      <th>K nearest</th>\n",
              "      <td>0.984750</td>\n",
              "      <td>0.987208</td>\n",
              "    </tr>\n",
              "    <tr>\n",
              "      <th>xgb</th>\n",
              "      <td>0.984250</td>\n",
              "      <td>0.995938</td>\n",
              "    </tr>\n",
              "    <tr>\n",
              "      <th>Decision Tree</th>\n",
              "      <td>0.981583</td>\n",
              "      <td>0.995042</td>\n",
              "    </tr>\n",
              "    <tr>\n",
              "      <th>Logistic Regresssion</th>\n",
              "      <td>0.951667</td>\n",
              "      <td>0.950146</td>\n",
              "    </tr>\n",
              "  </tbody>\n",
              "</table>\n",
              "</div>\n",
              "      <button class=\"colab-df-convert\" onclick=\"convertToInteractive('df-88cf2c7a-8dc7-4763-9ba2-d4dd1c840ce1')\"\n",
              "              title=\"Convert this dataframe to an interactive table.\"\n",
              "              style=\"display:none;\">\n",
              "\n",
              "  <svg xmlns=\"http://www.w3.org/2000/svg\" height=\"24px\"viewBox=\"0 0 24 24\"\n",
              "       width=\"24px\">\n",
              "    <path d=\"M0 0h24v24H0V0z\" fill=\"none\"/>\n",
              "    <path d=\"M18.56 5.44l.94 2.06.94-2.06 2.06-.94-2.06-.94-.94-2.06-.94 2.06-2.06.94zm-11 1L8.5 8.5l.94-2.06 2.06-.94-2.06-.94L8.5 2.5l-.94 2.06-2.06.94zm10 10l.94 2.06.94-2.06 2.06-.94-2.06-.94-.94-2.06-.94 2.06-2.06.94z\"/><path d=\"M17.41 7.96l-1.37-1.37c-.4-.4-.92-.59-1.43-.59-.52 0-1.04.2-1.43.59L10.3 9.45l-7.72 7.72c-.78.78-.78 2.05 0 2.83L4 21.41c.39.39.9.59 1.41.59.51 0 1.02-.2 1.41-.59l7.78-7.78 2.81-2.81c.8-.78.8-2.07 0-2.86zM5.41 20L4 18.59l7.72-7.72 1.47 1.35L5.41 20z\"/>\n",
              "  </svg>\n",
              "      </button>\n",
              "\n",
              "\n",
              "\n",
              "    <div id=\"df-018d8851-0147-46f8-b21e-f15b7247df63\">\n",
              "      <button class=\"colab-df-quickchart\" onclick=\"quickchart('df-018d8851-0147-46f8-b21e-f15b7247df63')\"\n",
              "              title=\"Suggest charts.\"\n",
              "              style=\"display:none;\">\n",
              "\n",
              "<svg xmlns=\"http://www.w3.org/2000/svg\" height=\"24px\"viewBox=\"0 0 24 24\"\n",
              "     width=\"24px\">\n",
              "    <g>\n",
              "        <path d=\"M19 3H5c-1.1 0-2 .9-2 2v14c0 1.1.9 2 2 2h14c1.1 0 2-.9 2-2V5c0-1.1-.9-2-2-2zM9 17H7v-7h2v7zm4 0h-2V7h2v10zm4 0h-2v-4h2v4z\"/>\n",
              "    </g>\n",
              "</svg>\n",
              "      </button>\n",
              "    </div>\n",
              "\n",
              "<style>\n",
              "  .colab-df-quickchart {\n",
              "    background-color: #E8F0FE;\n",
              "    border: none;\n",
              "    border-radius: 50%;\n",
              "    cursor: pointer;\n",
              "    display: none;\n",
              "    fill: #1967D2;\n",
              "    height: 32px;\n",
              "    padding: 0 0 0 0;\n",
              "    width: 32px;\n",
              "  }\n",
              "\n",
              "  .colab-df-quickchart:hover {\n",
              "    background-color: #E2EBFA;\n",
              "    box-shadow: 0px 1px 2px rgba(60, 64, 67, 0.3), 0px 1px 3px 1px rgba(60, 64, 67, 0.15);\n",
              "    fill: #174EA6;\n",
              "  }\n",
              "\n",
              "  [theme=dark] .colab-df-quickchart {\n",
              "    background-color: #3B4455;\n",
              "    fill: #D2E3FC;\n",
              "  }\n",
              "\n",
              "  [theme=dark] .colab-df-quickchart:hover {\n",
              "    background-color: #434B5C;\n",
              "    box-shadow: 0px 1px 3px 1px rgba(0, 0, 0, 0.15);\n",
              "    filter: drop-shadow(0px 1px 2px rgba(0, 0, 0, 0.3));\n",
              "    fill: #FFFFFF;\n",
              "  }\n",
              "</style>\n",
              "\n",
              "    <script>\n",
              "      async function quickchart(key) {\n",
              "        const containerElement = document.querySelector('#' + key);\n",
              "        const charts = await google.colab.kernel.invokeFunction(\n",
              "            'suggestCharts', [key], {});\n",
              "      }\n",
              "    </script>\n",
              "\n",
              "      <script>\n",
              "\n",
              "function displayQuickchartButton(domScope) {\n",
              "  let quickchartButtonEl =\n",
              "    domScope.querySelector('#df-018d8851-0147-46f8-b21e-f15b7247df63 button.colab-df-quickchart');\n",
              "  quickchartButtonEl.style.display =\n",
              "    google.colab.kernel.accessAllowed ? 'block' : 'none';\n",
              "}\n",
              "\n",
              "        displayQuickchartButton(document);\n",
              "      </script>\n",
              "      <style>\n",
              "    .colab-df-container {\n",
              "      display:flex;\n",
              "      flex-wrap:wrap;\n",
              "      gap: 12px;\n",
              "    }\n",
              "\n",
              "    .colab-df-convert {\n",
              "      background-color: #E8F0FE;\n",
              "      border: none;\n",
              "      border-radius: 50%;\n",
              "      cursor: pointer;\n",
              "      display: none;\n",
              "      fill: #1967D2;\n",
              "      height: 32px;\n",
              "      padding: 0 0 0 0;\n",
              "      width: 32px;\n",
              "    }\n",
              "\n",
              "    .colab-df-convert:hover {\n",
              "      background-color: #E2EBFA;\n",
              "      box-shadow: 0px 1px 2px rgba(60, 64, 67, 0.3), 0px 1px 3px 1px rgba(60, 64, 67, 0.15);\n",
              "      fill: #174EA6;\n",
              "    }\n",
              "\n",
              "    [theme=dark] .colab-df-convert {\n",
              "      background-color: #3B4455;\n",
              "      fill: #D2E3FC;\n",
              "    }\n",
              "\n",
              "    [theme=dark] .colab-df-convert:hover {\n",
              "      background-color: #434B5C;\n",
              "      box-shadow: 0px 1px 3px 1px rgba(0, 0, 0, 0.15);\n",
              "      filter: drop-shadow(0px 1px 2px rgba(0, 0, 0, 0.3));\n",
              "      fill: #FFFFFF;\n",
              "    }\n",
              "  </style>\n",
              "\n",
              "      <script>\n",
              "        const buttonEl =\n",
              "          document.querySelector('#df-88cf2c7a-8dc7-4763-9ba2-d4dd1c840ce1 button.colab-df-convert');\n",
              "        buttonEl.style.display =\n",
              "          google.colab.kernel.accessAllowed ? 'block' : 'none';\n",
              "\n",
              "        async function convertToInteractive(key) {\n",
              "          const element = document.querySelector('#df-88cf2c7a-8dc7-4763-9ba2-d4dd1c840ce1');\n",
              "          const dataTable =\n",
              "            await google.colab.kernel.invokeFunction('convertToInteractive',\n",
              "                                                     [key], {});\n",
              "          if (!dataTable) return;\n",
              "\n",
              "          const docLinkHtml = 'Like what you see? Visit the ' +\n",
              "            '<a target=\"_blank\" href=https://colab.research.google.com/notebooks/data_table.ipynb>data table notebook</a>'\n",
              "            + ' to learn more about interactive tables.';\n",
              "          element.innerHTML = '';\n",
              "          dataTable['output_type'] = 'display_data';\n",
              "          await google.colab.output.renderOutput(dataTable, element);\n",
              "          const docLink = document.createElement('div');\n",
              "          docLink.innerHTML = docLinkHtml;\n",
              "          element.appendChild(docLink);\n",
              "        }\n",
              "      </script>\n",
              "    </div>\n",
              "  </div>\n"
            ]
          },
          "metadata": {},
          "execution_count": 35
        }
      ]
    },
    {
      "cell_type": "code",
      "execution_count": null,
      "metadata": {
        "id": "qxsVT8S8aefv"
      },
      "outputs": [],
      "source": [
        "#Since we have overfit issue we tried the below to remove the overfitting\n",
        "#1- Cross validation:Best Model Selection:\n",
        "#2-Feature selection\n",
        "#3-L1 / L2 regularization (learning algorithm)\n",
        "#4-Remove layers / number of units per layer (model)\n",
        "#5-Dropout (model)"
      ]
    },
    {
      "cell_type": "code",
      "execution_count": null,
      "metadata": {
        "id": "zIVd62g1XPJt"
      },
      "outputs": [],
      "source": [
        "                                                               #1.Cross validation"
      ]
    },
    {
      "cell_type": "code",
      "execution_count": null,
      "metadata": {
        "id": "a65dEi9SUrha",
        "colab": {
          "base_uri": "https://localhost:8080/"
        },
        "outputId": "562865b8-84ac-4009-826e-05ac3f1625e7"
      },
      "outputs": [
        {
          "output_type": "stream",
          "name": "stdout",
          "text": [
            "[0.95       0.95041667 0.9575     0.94583333 0.95458333]\n",
            "95.17\n",
            "[0.95645833 0.94791667 0.95       0.95229167 0.95322917]\n",
            "95.2\n"
          ]
        }
      ],
      "source": [
        " #1)CROSS VALIDATION-Logistic Regresssion\n",
        "\n",
        "# Test\n",
        "logisticRegr = LogisticRegression()\n",
        "from sklearn.model_selection import cross_val_score\n",
        "cv_score_lr_test = cross_val_score(logisticRegr, x_test, y_test, cv=5)\n",
        "print(cv_score_lr_test)\n",
        "mean_accuracy_lr = sum(cv_score_lr_test)/len(cv_score_lr_test)\n",
        "mean_accuracy_lr = mean_accuracy_lr*100\n",
        "mean_accuracy_lr = round(mean_accuracy_lr, 2)\n",
        "print(mean_accuracy_lr)\n",
        "\n",
        "#train\n",
        "cv_score_lr_train = cross_val_score(logisticRegr, x_train, y_train, cv=5)\n",
        "print(cv_score_lr_train)\n",
        "mean_accuracy_lr_train = sum(cv_score_lr_train)/len(cv_score_lr_test)\n",
        "mean_accuracy_lr_train = mean_accuracy_lr_train*100\n",
        "mean_accuracy_lr_train = round(mean_accuracy_lr_train, 2)\n",
        "print(mean_accuracy_lr_train)"
      ]
    },
    {
      "cell_type": "code",
      "execution_count": null,
      "metadata": {
        "id": "JNuIlQIgc1Vj",
        "colab": {
          "base_uri": "https://localhost:8080/"
        },
        "outputId": "246fcf5f-4be6-47f6-bba6-c667ab37f50a"
      },
      "outputs": [
        {
          "output_type": "stream",
          "name": "stdout",
          "text": [
            "[0.97958333 0.9725     0.98333333 0.97666667 0.98208333]\n",
            "97.88\n",
            "[0.98020833 0.9784375  0.98083333 0.97927083 0.980625  ]\n",
            "97.99\n"
          ]
        }
      ],
      "source": [
        " #2)CROSS VALIDATION-Decision Tree\n",
        "\n",
        " #Test\n",
        "from sklearn.model_selection import cross_val_score\n",
        "from sklearn.tree import DecisionTreeClassifier\n",
        "DT = DecisionTreeClassifier(random_state= 101)\n",
        "cv_score_dt_test = cross_val_score(DT, x_test, y_test, cv=5)\n",
        "print(cv_score_dt_test)\n",
        "mean_accuracy_dt = sum(cv_score_dt_test)/len(cv_score_dt_test)\n",
        "mean_accuracy_dt = mean_accuracy_dt*100\n",
        "mean_accuracy_dt = round(mean_accuracy_dt, 2)\n",
        "print(mean_accuracy_dt)\n",
        "\n",
        "\n",
        "#Train\n",
        "\n",
        "cv_score_dt_train = cross_val_score(DT, x_train, y_train, cv=5)\n",
        "print(cv_score_dt_train)\n",
        "mean_accuracy_dt_train = sum(cv_score_dt_train)/len(cv_score_dt_train)\n",
        "mean_accuracy_dt_train = mean_accuracy_dt_train*100\n",
        "mean_accuracy_dt_train = round(mean_accuracy_dt_train, 2)\n",
        "print(mean_accuracy_dt_train)"
      ]
    },
    {
      "cell_type": "code",
      "execution_count": null,
      "metadata": {
        "id": "UQ32lFKvc8dt",
        "colab": {
          "base_uri": "https://localhost:8080/"
        },
        "outputId": "31746f00-31a1-482a-c130-6b9fb4baf7b4"
      },
      "outputs": [
        {
          "output_type": "stream",
          "name": "stdout",
          "text": [
            "[0.98583333 0.98458333 0.9875     0.98333333 0.98833333]\n",
            "98.59\n",
            "[0.98416667 0.98302083 0.98677083 0.98302083 0.985     ]\n",
            "98.44\n"
          ]
        }
      ],
      "source": [
        " #3)CROSS VALIDATION-Random Forest\n",
        "\n",
        "#Test\n",
        "from sklearn.ensemble import RandomForestClassifier\n",
        "rf_model = RandomForestClassifier(n_estimators=10,criterion='gini',max_depth=10,random_state=0)\n",
        "cv_score_rf_test = cross_val_score(rf_model, x_test, y_test, cv=5)\n",
        "print(cv_score_rf_test)\n",
        "mean_accuracy_rf = sum(cv_score_rf_test)/len(cv_score_rf_test)\n",
        "mean_accuracy_rf = mean_accuracy_rf*100\n",
        "mean_accuracy_rf = round(mean_accuracy_rf, 2)\n",
        "print(mean_accuracy_rf)\n",
        "\n",
        "\n",
        "#Train\n",
        "cv_score_rf_train = cross_val_score(rf_model, x_train, y_train, cv=5)\n",
        "print(cv_score_rf_train)\n",
        "mean_accuracy_rf_train = sum(cv_score_rf_train)/len(cv_score_rf_train)\n",
        "mean_accuracy_rf_train = mean_accuracy_rf_train*100\n",
        "mean_accuracy_rf_train = round(mean_accuracy_rf_train, 2)\n",
        "print(mean_accuracy_rf_train)\n"
      ]
    },
    {
      "cell_type": "code",
      "execution_count": null,
      "metadata": {
        "id": "Ptki6vQ6OUbx",
        "colab": {
          "base_uri": "https://localhost:8080/"
        },
        "outputId": "078634ff-890b-428b-ef60-56432e437efa"
      },
      "outputs": [
        {
          "output_type": "stream",
          "name": "stdout",
          "text": [
            "[0.98458333 0.9825     0.98791667 0.985      0.99      ]\n",
            "98.6\n",
            "[0.98208333 0.9825     0.98427083 0.98239583 0.98291667]\n",
            "98.28\n"
          ]
        }
      ],
      "source": [
        " #4)CROSS VALIDATION-xgb Classifier\n",
        "\n",
        "#test\n",
        "import xgboost as xgb\n",
        "xgb_classifier = xgb.XGBClassifier()\n",
        "cv_score_xg_test = cross_val_score(xgb_classifier, x_test, y_test, cv=5)\n",
        "print(cv_score_xg_test)\n",
        "mean_accuracy_xg = sum(cv_score_xg_test)/len(cv_score_xg_test)\n",
        "mean_accuracy_xg = mean_accuracy_xg*100\n",
        "mean_accuracy_xg = round(mean_accuracy_xg, 2)\n",
        "print(mean_accuracy_xg)\n",
        "\n",
        "#Train\n",
        "cv_score_xg_train = cross_val_score(xgb_classifier,x_train, y_train, cv=5)\n",
        "print(cv_score_xg_train)\n",
        "mean_accuracy_xg_train = sum(cv_score_xg_train)/len(cv_score_xg_train)\n",
        "mean_accuracy_xg_train = mean_accuracy_xg_train*100\n",
        "mean_accuracy_xg_train = round(mean_accuracy_xg_train, 2)\n",
        "print(mean_accuracy_xg_train)"
      ]
    },
    {
      "cell_type": "code",
      "execution_count": null,
      "metadata": {
        "id": "ybDrISNnPihZ",
        "colab": {
          "base_uri": "https://localhost:8080/"
        },
        "outputId": "c95680d5-e882-4216-c409-1bf57cd72e94"
      },
      "outputs": [
        {
          "output_type": "stream",
          "name": "stdout",
          "text": [
            "[0.97666667 0.97458333 0.97708333 0.97458333 0.97875   ]\n",
            "97.63\n",
            "[0.98291667 0.98104167 0.98364583 0.98302083 0.98322917]\n",
            "98.28\n"
          ]
        }
      ],
      "source": [
        " #5)CROSS VALIDATION-KNeighborsClassifier\n",
        "from sklearn.neighbors import KNeighborsClassifier\n",
        "knn = KNeighborsClassifier(n_neighbors=9)\n",
        "cv_score_kn = cross_val_score(knn, x_test, y_test, cv=5)\n",
        "print(cv_score_kn)\n",
        "mean_accuracy_kn = sum(cv_score_kn)/len(cv_score_kn)\n",
        "mean_accuracy_kn = mean_accuracy_kn*100\n",
        "mean_accuracy_kn = round(mean_accuracy_kn, 2)\n",
        "print(mean_accuracy_kn)\n",
        "\n",
        "#train\n",
        "cv_score_kn_train = cross_val_score(knn, x_train, y_train, cv=5)\n",
        "print(cv_score_kn_train)\n",
        "mean_accuracy_kn_train = sum(cv_score_kn_train)/len(cv_score_kn_train)\n",
        "mean_accuracy_kn_train = mean_accuracy_kn_train*100\n",
        "mean_accuracy_kn_train = round(mean_accuracy_kn_train, 2)\n",
        "print(mean_accuracy_kn_train)\n",
        "\n",
        "\n"
      ]
    },
    {
      "cell_type": "markdown",
      "metadata": {
        "id": "xTu2a6jsU4Lg"
      },
      "source": [
        "# list of models for cross validation:\n",
        "models = [logisticRegr,DT, rf_model,xgb_classifier,knn]\n",
        "mean_accuracy_list = []\n",
        "\n",
        "\n",
        "def compare_models_cross_validation():\n",
        "\n",
        "  for model in models:\n",
        "    cv_score = cross_val_score(model, x,y, cv=5)\n",
        "    mean_accuracy = sum(cv_score)/len(cv_score)\n",
        "    mean_accuracy = mean_accuracy*100\n",
        "    mean_accuracy = round(mean_accuracy, 2)\n",
        "    mean_accuracy_list.append(mean_accuracy)\n",
        "\n",
        "    headers = [\"Model\", \"Scores\", \"Mean\"]\n",
        "    data = [[model, cv_score, mean_accuracy]]\n",
        "    dfCatb_scores_tg = pd.DataFrame(data, columns=headers)\n",
        "    dfCatb_scores_tg.head()\n",
        "    print('Cross Validation accuracies for ', model, '=  ', cv_score)\n",
        "    print('Accuracy % of the ', model, mean_accuracy)\n",
        "    print('----------------------------------------------')\n",
        "    #compare_models_cross_validation()\n",
        "\n",
        "\n"
      ]
    },
    {
      "cell_type": "code",
      "execution_count": null,
      "metadata": {
        "id": "IFysHy6M8Rel",
        "colab": {
          "base_uri": "https://localhost:8080/",
          "height": 235
        },
        "outputId": "f1c08095-0f8c-4d48-9fc1-64fbfe20c8b8"
      },
      "outputs": [
        {
          "output_type": "error",
          "ename": "NameError",
          "evalue": "ignored",
          "traceback": [
            "\u001b[0;31m---------------------------------------------------------------------------\u001b[0m",
            "\u001b[0;31mNameError\u001b[0m                                 Traceback (most recent call last)",
            "\u001b[0;32m<ipython-input-1-bc7baa33da95>\u001b[0m in \u001b[0;36m<cell line: 2>\u001b[0;34m()\u001b[0m\n\u001b[1;32m      1\u001b[0m \u001b[0;31m#mean_accuracy_list\u001b[0m\u001b[0;34m\u001b[0m\u001b[0;34m\u001b[0m\u001b[0m\n\u001b[0;32m----> 2\u001b[0;31m results = pd.DataFrame({\n\u001b[0m\u001b[1;32m      3\u001b[0m     \u001b[0;34m'Model'\u001b[0m\u001b[0;34m:\u001b[0m \u001b[0;34m[\u001b[0m\u001b[0;34m'Logistic Regresssion'\u001b[0m\u001b[0;34m,\u001b[0m \u001b[0;34m'Decision Tree'\u001b[0m\u001b[0;34m,\u001b[0m \u001b[0;34m'Random Forest'\u001b[0m\u001b[0;34m,\u001b[0m\u001b[0;34m'K nearest'\u001b[0m\u001b[0;34m,\u001b[0m\u001b[0;34m\"xgb\"\u001b[0m\u001b[0;34m]\u001b[0m\u001b[0;34m,\u001b[0m\u001b[0;34m\u001b[0m\u001b[0;34m\u001b[0m\u001b[0m\n\u001b[1;32m      4\u001b[0m     \u001b[0;34m'Score_test'\u001b[0m\u001b[0;34m:\u001b[0m \u001b[0;34m[\u001b[0m\u001b[0mmean_accuracy_lr\u001b[0m\u001b[0;34m,\u001b[0m \u001b[0mmean_accuracy_dt\u001b[0m\u001b[0;34m,\u001b[0m \u001b[0mmean_accuracy_rf\u001b[0m\u001b[0;34m,\u001b[0m\u001b[0mmean_accuracy_kn\u001b[0m\u001b[0;34m,\u001b[0m\u001b[0mmean_accuracy_xg\u001b[0m\u001b[0;34m]\u001b[0m\u001b[0;34m,\u001b[0m\u001b[0;34m\u001b[0m\u001b[0;34m\u001b[0m\u001b[0m\n\u001b[1;32m      5\u001b[0m     'Score_train': [mean_accuracy_lr_train, mean_accuracy_dt_train, mean_accuracy_rf_train,mean_accuracy_kn_train,mean_accuracy_xg_train]})\n",
            "\u001b[0;31mNameError\u001b[0m: name 'pd' is not defined"
          ]
        }
      ],
      "source": [
        "#mean_accuracy_list\n",
        "results = pd.DataFrame({\n",
        "    'Model': ['Logistic Regresssion', 'Decision Tree', 'Random Forest','K nearest',\"xgb\"],\n",
        "    'Score_test': [mean_accuracy_lr, mean_accuracy_dt, mean_accuracy_rf,mean_accuracy_kn,mean_accuracy_xg],\n",
        "    'Score_train': [mean_accuracy_lr_train, mean_accuracy_dt_train, mean_accuracy_rf_train,mean_accuracy_kn_train,mean_accuracy_xg_train]})\n",
        "result_df = results.sort_values(by='Score_test', ascending=False)\n",
        "\n",
        "result_df = result_df.set_index('Model')\n",
        "result_df.head(9)"
      ]
    },
    {
      "cell_type": "markdown",
      "metadata": {
        "id": "3Z1mVToK4Kgx"
      },
      "source": [
        "param_grid = { \"criterion\" : [\"gini\", \"entropy\"], \"min_samples_leaf\" : [1, 5, 10, 25, 50, 70], \"min_samples_split\" : [2, 4, 10, 12, 16, 18, 25, 35], \"n_estimators\": [100, 400, 700, 1000, 1500]}"
      ]
    },
    {
      "cell_type": "markdown",
      "metadata": {
        "id": "Uiy6dA_64Kwu"
      },
      "source": [
        "from sklearn.model_selection import GridSearchCV\n",
        "rf = RandomForestClassifier(n_estimators=100, max_features='auto', oob_score=True, random_state=1, n_jobs=-1)\n",
        "clf = GridSearchCV(estimator=rf, param_grid=param_grid, n_jobs=-1)\n",
        "clf.fit(x_train, y_train)\n",
        "clf.bestparams"
      ]
    }
  ],
  "metadata": {
    "colab": {
      "provenance": [],
      "authorship_tag": "ABX9TyMcGGXBjouG4qL+GcA9/Tgy",
      "include_colab_link": true
    },
    "kernelspec": {
      "display_name": "Python 3",
      "name": "python3"
    },
    "language_info": {
      "name": "python"
    }
  },
  "nbformat": 4,
  "nbformat_minor": 0
}