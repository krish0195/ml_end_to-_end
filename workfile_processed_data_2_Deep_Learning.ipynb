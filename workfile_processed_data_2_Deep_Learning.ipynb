{
  "cells": [
    {
      "cell_type": "markdown",
      "metadata": {
        "id": "view-in-github",
        "colab_type": "text"
      },
      "source": [
        "<a href=\"https://colab.research.google.com/github/krish0195/ml_end_to-_end/blob/master/workfile_processed_data_2_Deep_Learning.ipynb\" target=\"_parent\"><img src=\"https://colab.research.google.com/assets/colab-badge.svg\" alt=\"Open In Colab\"/></a>"
      ]
    },
    {
      "cell_type": "code",
      "execution_count": null,
      "metadata": {
        "id": "Hq7zzWOcq4Lz"
      },
      "outputs": [],
      "source": [
        "                                                                              #Method 1)Deep learing Model:Keras with Tenserflow"
      ]
    },
    {
      "cell_type": "code",
      "execution_count": null,
      "metadata": {
        "id": "C2InLXS7rwPm"
      },
      "outputs": [],
      "source": [
        "#Use to import pandas\n",
        "import pandas as pd\n",
        "#Use to import the file into google Colab drive\n",
        "from google.colab import files\n",
        "#Use to import io, which opens the file from the Colab drive\n",
        "import io\n",
        "import numpy as np\n",
        "import matplotlib.pyplot as plt\n",
        "%matplotlib inline\n",
        "from sklearn.model_selection import train_test_split\n",
        "from sklearn import metrics\n",
        "from sklearn.ensemble import RandomForestClassifier\n",
        "from sklearn.linear_model import LogisticRegression\n",
        "import seaborn as sns\n",
        "import warnings\n",
        "warnings.filterwarnings(\"ignore\")\n",
        "from sklearn import metrics\n",
        "from sklearn.metrics import roc_auc_score,roc_curve,classification_report,confusion_matrix\n",
        "from sklearn.pipeline import Pipeline\n",
        "from collections import Counter\n",
        "from imblearn.over_sampling import SMOTE\n",
        "from sklearn.metrics import accuracy_score, precision_score, recall_score, f1_score\n",
        "import pandas as pd\n",
        "pd.set_option('display.max_rows', 500)\n",
        "pd.set_option('display.max_columns', 500)\n",
        "pd.set_option('display.width', 1000)\n",
        "from sklearn.preprocessing import StandardScaler\n",
        "std_scale=StandardScaler()\n",
        "from sklearn.linear_model import LogisticRegression\n",
        "from sklearn.tree import DecisionTreeClassifier\n",
        "from sklearn.ensemble import RandomForestClassifier"
      ]
    },
    {
      "cell_type": "code",
      "execution_count": null,
      "metadata": {
        "colab": {
          "background_save": true,
          "base_uri": "https://localhost:8080/",
          "height": 36
        },
        "id": "fZNCUsD9rwVg",
        "outputId": "9e081f99-d703-41e1-b245-7a1feeaa6e0c"
      },
      "outputs": [
        {
          "data": {
            "text/html": [
              "\n",
              "     <input type=\"file\" id=\"files-9ae21d17-c0ad-4842-a2db-e2a9b7c5f4c7\" name=\"files[]\" multiple disabled\n",
              "        style=\"border:none\" />\n",
              "     <output id=\"result-9ae21d17-c0ad-4842-a2db-e2a9b7c5f4c7\">\n",
              "      Upload widget is only available when the cell has been executed in the\n",
              "      current browser session. Please rerun this cell to enable.\n",
              "      </output>\n",
              "      <script>// Copyright 2017 Google LLC\n",
              "//\n",
              "// Licensed under the Apache License, Version 2.0 (the \"License\");\n",
              "// you may not use this file except in compliance with the License.\n",
              "// You may obtain a copy of the License at\n",
              "//\n",
              "//      http://www.apache.org/licenses/LICENSE-2.0\n",
              "//\n",
              "// Unless required by applicable law or agreed to in writing, software\n",
              "// distributed under the License is distributed on an \"AS IS\" BASIS,\n",
              "// WITHOUT WARRANTIES OR CONDITIONS OF ANY KIND, either express or implied.\n",
              "// See the License for the specific language governing permissions and\n",
              "// limitations under the License.\n",
              "\n",
              "/**\n",
              " * @fileoverview Helpers for google.colab Python module.\n",
              " */\n",
              "(function(scope) {\n",
              "function span(text, styleAttributes = {}) {\n",
              "  const element = document.createElement('span');\n",
              "  element.textContent = text;\n",
              "  for (const key of Object.keys(styleAttributes)) {\n",
              "    element.style[key] = styleAttributes[key];\n",
              "  }\n",
              "  return element;\n",
              "}\n",
              "\n",
              "// Max number of bytes which will be uploaded at a time.\n",
              "const MAX_PAYLOAD_SIZE = 100 * 1024;\n",
              "\n",
              "function _uploadFiles(inputId, outputId) {\n",
              "  const steps = uploadFilesStep(inputId, outputId);\n",
              "  const outputElement = document.getElementById(outputId);\n",
              "  // Cache steps on the outputElement to make it available for the next call\n",
              "  // to uploadFilesContinue from Python.\n",
              "  outputElement.steps = steps;\n",
              "\n",
              "  return _uploadFilesContinue(outputId);\n",
              "}\n",
              "\n",
              "// This is roughly an async generator (not supported in the browser yet),\n",
              "// where there are multiple asynchronous steps and the Python side is going\n",
              "// to poll for completion of each step.\n",
              "// This uses a Promise to block the python side on completion of each step,\n",
              "// then passes the result of the previous step as the input to the next step.\n",
              "function _uploadFilesContinue(outputId) {\n",
              "  const outputElement = document.getElementById(outputId);\n",
              "  const steps = outputElement.steps;\n",
              "\n",
              "  const next = steps.next(outputElement.lastPromiseValue);\n",
              "  return Promise.resolve(next.value.promise).then((value) => {\n",
              "    // Cache the last promise value to make it available to the next\n",
              "    // step of the generator.\n",
              "    outputElement.lastPromiseValue = value;\n",
              "    return next.value.response;\n",
              "  });\n",
              "}\n",
              "\n",
              "/**\n",
              " * Generator function which is called between each async step of the upload\n",
              " * process.\n",
              " * @param {string} inputId Element ID of the input file picker element.\n",
              " * @param {string} outputId Element ID of the output display.\n",
              " * @return {!Iterable<!Object>} Iterable of next steps.\n",
              " */\n",
              "function* uploadFilesStep(inputId, outputId) {\n",
              "  const inputElement = document.getElementById(inputId);\n",
              "  inputElement.disabled = false;\n",
              "\n",
              "  const outputElement = document.getElementById(outputId);\n",
              "  outputElement.innerHTML = '';\n",
              "\n",
              "  const pickedPromise = new Promise((resolve) => {\n",
              "    inputElement.addEventListener('change', (e) => {\n",
              "      resolve(e.target.files);\n",
              "    });\n",
              "  });\n",
              "\n",
              "  const cancel = document.createElement('button');\n",
              "  inputElement.parentElement.appendChild(cancel);\n",
              "  cancel.textContent = 'Cancel upload';\n",
              "  const cancelPromise = new Promise((resolve) => {\n",
              "    cancel.onclick = () => {\n",
              "      resolve(null);\n",
              "    };\n",
              "  });\n",
              "\n",
              "  // Wait for the user to pick the files.\n",
              "  const files = yield {\n",
              "    promise: Promise.race([pickedPromise, cancelPromise]),\n",
              "    response: {\n",
              "      action: 'starting',\n",
              "    }\n",
              "  };\n",
              "\n",
              "  cancel.remove();\n",
              "\n",
              "  // Disable the input element since further picks are not allowed.\n",
              "  inputElement.disabled = true;\n",
              "\n",
              "  if (!files) {\n",
              "    return {\n",
              "      response: {\n",
              "        action: 'complete',\n",
              "      }\n",
              "    };\n",
              "  }\n",
              "\n",
              "  for (const file of files) {\n",
              "    const li = document.createElement('li');\n",
              "    li.append(span(file.name, {fontWeight: 'bold'}));\n",
              "    li.append(span(\n",
              "        `(${file.type || 'n/a'}) - ${file.size} bytes, ` +\n",
              "        `last modified: ${\n",
              "            file.lastModifiedDate ? file.lastModifiedDate.toLocaleDateString() :\n",
              "                                    'n/a'} - `));\n",
              "    const percent = span('0% done');\n",
              "    li.appendChild(percent);\n",
              "\n",
              "    outputElement.appendChild(li);\n",
              "\n",
              "    const fileDataPromise = new Promise((resolve) => {\n",
              "      const reader = new FileReader();\n",
              "      reader.onload = (e) => {\n",
              "        resolve(e.target.result);\n",
              "      };\n",
              "      reader.readAsArrayBuffer(file);\n",
              "    });\n",
              "    // Wait for the data to be ready.\n",
              "    let fileData = yield {\n",
              "      promise: fileDataPromise,\n",
              "      response: {\n",
              "        action: 'continue',\n",
              "      }\n",
              "    };\n",
              "\n",
              "    // Use a chunked sending to avoid message size limits. See b/62115660.\n",
              "    let position = 0;\n",
              "    do {\n",
              "      const length = Math.min(fileData.byteLength - position, MAX_PAYLOAD_SIZE);\n",
              "      const chunk = new Uint8Array(fileData, position, length);\n",
              "      position += length;\n",
              "\n",
              "      const base64 = btoa(String.fromCharCode.apply(null, chunk));\n",
              "      yield {\n",
              "        response: {\n",
              "          action: 'append',\n",
              "          file: file.name,\n",
              "          data: base64,\n",
              "        },\n",
              "      };\n",
              "\n",
              "      let percentDone = fileData.byteLength === 0 ?\n",
              "          100 :\n",
              "          Math.round((position / fileData.byteLength) * 100);\n",
              "      percent.textContent = `${percentDone}% done`;\n",
              "\n",
              "    } while (position < fileData.byteLength);\n",
              "  }\n",
              "\n",
              "  // All done.\n",
              "  yield {\n",
              "    response: {\n",
              "      action: 'complete',\n",
              "    }\n",
              "  };\n",
              "}\n",
              "\n",
              "scope.google = scope.google || {};\n",
              "scope.google.colab = scope.google.colab || {};\n",
              "scope.google.colab._files = {\n",
              "  _uploadFiles,\n",
              "  _uploadFilesContinue,\n",
              "};\n",
              "})(self);\n",
              "</script> "
            ],
            "text/plain": [
              "<IPython.core.display.HTML object>"
            ]
          },
          "metadata": {},
          "output_type": "display_data"
        }
      ],
      "source": [
        "# This will open a widget when run that will enable you to browse the files on your local storage drive.\n",
        "# the excel file after reshaping each to 1000 records:\n",
        "uploaded = files.upload()"
      ]
    },
    {
      "cell_type": "code",
      "execution_count": null,
      "metadata": {
        "id": "k3oc37hmr_mG"
      },
      "outputs": [],
      "source": [
        "import pandas as pd\n",
        "df_fulldata=pd.read_csv(\"Final_df.csv\")"
      ]
    },
    {
      "cell_type": "code",
      "execution_count": null,
      "metadata": {
        "id": "4-QJ2yTLM2Xj"
      },
      "outputs": [],
      "source": [
        "from sklearn.utils import shuffle\n",
        "shuffled = shuffle(df_fulldata, random_state=1)\n",
        "df_fulldata=shuffled"
      ]
    },
    {
      "cell_type": "code",
      "execution_count": null,
      "metadata": {
        "id": "dovn1wyEsALf"
      },
      "outputs": [],
      "source": [
        "print(df_fulldata.shape)\n",
        "print(\"the full data Row\",df_fulldata.shape[0])\n",
        "print(\"the full data columns\",df_fulldata.shape[1])"
      ]
    },
    {
      "cell_type": "code",
      "execution_count": null,
      "metadata": {
        "id": "wHSKmPHOsCc-"
      },
      "outputs": [],
      "source": [
        "#label encoding of tgt varaible\n",
        "tgt_map = {    'Flexion_football':0,\n",
        "               'Flexion_relaxed':1,\n",
        "               'Flexion_stiffed':2,\n",
        "               'Lateral_football':3,\n",
        "               'Lateral_relaxed':4,\n",
        "               'Lateral_stiffed':5\n",
        "              }\n",
        "df_fulldata[\"Direction\"]=df_fulldata.Direction.map(tgt_map)"
      ]
    },
    {
      "cell_type": "code",
      "execution_count": null,
      "metadata": {
        "id": "62kOSpWBsHQN"
      },
      "outputs": [],
      "source": [
        "df_fulldata=df_fulldata.drop(columns=[\"time\",\"Subject\",\"Sr No\"],axis=1)"
      ]
    },
    {
      "cell_type": "code",
      "execution_count": null,
      "metadata": {
        "id": "V8F2-0-ArwYm"
      },
      "outputs": [],
      "source": [
        "x=df_fulldata.drop(columns=['Direction'])\n",
        "y=df_fulldata['Direction']\n",
        "\n",
        "# checking the distribution of Target Varibale\n",
        "df_fulldata['Direction'].value_counts()"
      ]
    },
    {
      "cell_type": "code",
      "execution_count": null,
      "metadata": {
        "id": "RTHnQTwQrvqM"
      },
      "outputs": [],
      "source": [
        "from sklearn.model_selection import train_test_split\n",
        "x_train, x_test, y_train, y_test = train_test_split(x, y, test_size = 0.20, stratify = y, random_state = 43,shuffle=True)\n",
        "\n",
        "print(\"x_train shape is\",x_train.shape)\n",
        "print(\"y_train shape is\",y_train.shape)\n",
        "\n",
        "print(\"x_test shape is\",x_test.shape)\n",
        "print(\"y_test shape is\",y_test.shape)"
      ]
    },
    {
      "cell_type": "code",
      "execution_count": null,
      "metadata": {
        "id": "8UIlQyWprxtD"
      },
      "outputs": [],
      "source": [
        "#standard scalar of train test varaibles:\n",
        "from sklearn.preprocessing import StandardScaler\n",
        "std_scale=StandardScaler()\n",
        "\n",
        "x_train_scaled=std_scale.fit_transform(x_train)\n",
        "x_test_scaled=std_scale.fit_transform(x_test)"
      ]
    },
    {
      "cell_type": "code",
      "execution_count": null,
      "metadata": {
        "id": "UaN8vUKHrFcW"
      },
      "outputs": [],
      "source": [
        "# importing tensorflow and Keras\n",
        "#https://www.youtube.com/watch?v=WGNI-k20GNo&t=2141s&ab_channel=Siddhardhan\n",
        "import tensorflow as tf\n",
        "tf.random.set_seed(3)\n",
        "from tensorflow import keras\n",
        "from keras import models\n",
        "from keras import layers\n",
        "from keras.utils import to_categorical\n",
        "from tensorflow.keras.callbacks import EarlyStopping\n",
        "\n",
        "\n",
        "from sklearn.model_selection import KFold\n",
        "from tensorflow.keras.models import Sequential\n",
        "from tensorflow.keras.layers import Dense, Activation ,Dropout\n",
        "from tensorflow.keras import regularizers\n",
        "\n"
      ]
    },
    {
      "cell_type": "markdown",
      "metadata": {
        "id": "EjVeZaI5rIqV"
      },
      "source": [
        "# setting up the layers of Neural Network\n",
        "\n",
        "model = keras.Sequential([\n",
        "                          keras.layers.Flatten(input_shape=(56,)),\n",
        "                          keras.layers.Dense(36, activation='relu'), #Hidden layer\n",
        "                          keras.layers.Dense(6, activation='sigmoid')\n",
        "])\n",
        "\n",
        "model.summary()"
      ]
    },
    {
      "cell_type": "code",
      "execution_count": null,
      "metadata": {
        "id": "YAQ8UGNhmT0f"
      },
      "outputs": [],
      "source": [
        "model = keras.Sequential([\n",
        "                          keras.layers.Flatten(input_shape=(56,),activity_regularizer=regularizers.l2(0.003)),\n",
        "                          keras.layers.Dense(36, activation='relu',activity_regularizer=regularizers.l2(0.003)),#Hidden layer\n",
        "                          keras.layers.Dense(18, activation='relu',activity_regularizer=regularizers.l2(0.003)),\n",
        "                          keras.layers.Dense(6, activation='sigmoid')\n",
        "])\n",
        "\n",
        "model.summary()\n",
        "\n",
        "\n",
        "#sgd=SGD(lr=0.01,decay=1e-6,momentum=0.9,nesterov=True) # optimizer\n"
      ]
    },
    {
      "cell_type": "code",
      "execution_count": null,
      "metadata": {
        "id": "7cRHLSn0rJyB"
      },
      "outputs": [],
      "source": [
        "# compiling the Neural Network\n",
        "\n",
        "model.compile(optimizer='adam',\n",
        "              loss='sparse_categorical_crossentropy',\n",
        "              metrics=['accuracy'])"
      ]
    },
    {
      "cell_type": "code",
      "execution_count": null,
      "metadata": {
        "id": "95DYalNWzBBL"
      },
      "outputs": [],
      "source": [
        "#https://www.youtube.com/watch?v=Ygvskt5HadI&ab_channel=CampusX\n",
        "#https://www.youtube.com/watch?v=oOSXQP7C7ck&ab_channel=JunaidAhmed\n",
        "callback=EarlyStopping(\n",
        "    monitor=\"val_loss\",\n",
        "    min_delta=0.00001,\n",
        "    patience=20,\n",
        "    verbose=1,\n",
        "    mode=\"auto\",\n",
        "    baseline=None,\n",
        "    restore_best_weights=False,\n",
        "\n",
        ")"
      ]
    },
    {
      "cell_type": "code",
      "execution_count": null,
      "metadata": {
        "id": "K43QdoUtrLXX"
      },
      "outputs": [],
      "source": [
        "shap=[x_train_scaled,y_train,x_test_scaled,y_test]\n",
        "\n",
        "for i in shap:\n",
        "  print(i.shape)"
      ]
    },
    {
      "cell_type": "code",
      "execution_count": null,
      "metadata": {
        "id": "uEPTPUCtrNEO"
      },
      "outputs": [],
      "source": [
        "# training the Neural Network\n",
        "\n",
        "history = model.fit(x_train_scaled, y_train, validation_data=(x_test_scaled,y_test), epochs=10,callbacks=callback)"
      ]
    },
    {
      "cell_type": "code",
      "execution_count": null,
      "metadata": {
        "id": "n5nHpxCjrPAp"
      },
      "outputs": [],
      "source": [
        "#Visualizing accuracy and loss\n",
        "\n",
        "plt.plot(history.history['accuracy'])\n",
        "plt.plot(history.history['val_accuracy'])\n",
        "\n",
        "plt.title('model accuracy')\n",
        "plt.ylabel('accuracy')\n",
        "plt.xlabel('epoch')\n",
        "\n",
        "plt.legend(['training data', 'validation data'], loc = 'lower right')"
      ]
    },
    {
      "cell_type": "code",
      "execution_count": null,
      "metadata": {
        "id": "X52pcdNTrQxm"
      },
      "outputs": [],
      "source": [
        "plt.plot(history.history['loss'],label=\"train\")\n",
        "plt.plot(history.history['val_loss'],label=\"test\")\n",
        "\n",
        "plt.title('model loss')\n",
        "plt.ylabel('loss')\n",
        "plt.xlabel('epoch')\n",
        "\n",
        "plt.legend(['training data', 'validation data'], loc = 'upper right')"
      ]
    },
    {
      "cell_type": "code",
      "execution_count": null,
      "metadata": {
        "id": "BOla-CRprTId"
      },
      "outputs": [],
      "source": [
        "#Accuracy of the model on test data\n",
        "loss, accuracy = model.evaluate(x_test_scaled,y_test)\n",
        "print(\"the accuracy is\",accuracy)\n",
        "print(\"the loss is\",loss)"
      ]
    },
    {
      "cell_type": "code",
      "execution_count": null,
      "metadata": {
        "id": "STP3AIUynAaf"
      },
      "outputs": [],
      "source": [
        "#Accuracy of the model on train data\n",
        "loss, accuracy = model.evaluate(x_train_scaled,y_train)\n",
        "print(accuracy)"
      ]
    },
    {
      "cell_type": "code",
      "execution_count": null,
      "metadata": {
        "id": "kmMed71grVLd"
      },
      "outputs": [],
      "source": [
        "print(x_test_scaled.shape)\n",
        "print(x_test_scaled[0])"
      ]
    },
    {
      "cell_type": "code",
      "execution_count": null,
      "metadata": {
        "id": "fAjf1yrirYfg"
      },
      "outputs": [],
      "source": [
        "Y_test_pred = model.predict(x_test_scaled)\n",
        "\n",
        "Y_train_pred = model.predict(x_train_scaled)"
      ]
    },
    {
      "cell_type": "code",
      "execution_count": null,
      "metadata": {
        "id": "rCLueilFzox0"
      },
      "outputs": [],
      "source": [
        "model.predict(x_train_scaled[0:1],batch_size=None,verbose=0,steps=None)"
      ]
    },
    {
      "cell_type": "code",
      "execution_count": null,
      "metadata": {
        "id": "tfKD828Y0QmV"
      },
      "outputs": [],
      "source": [
        "y_train[0:1]"
      ]
    },
    {
      "cell_type": "code",
      "execution_count": null,
      "metadata": {
        "id": "-3SZIWqYraCn"
      },
      "outputs": [],
      "source": [
        "print(Y_test_pred.shape)\n",
        "print(Y_test_pred[0])\n",
        "\n",
        "print(Y_train_pred.shape)\n",
        "print(Y_train_pred[0])"
      ]
    },
    {
      "cell_type": "code",
      "execution_count": null,
      "metadata": {
        "id": "dSzW47MJrb1h"
      },
      "outputs": [],
      "source": [
        "#model.predict() gives the prediction probability of each class for that data point\n",
        "# converting the prediction probability to class labels\n",
        "\n",
        "Y_pred_labels = [np.argmax(i) for i in Y_test_pred]\n",
        "print(Y_pred_labels)\n",
        "print(type(y_test))\n",
        "print(type(Y_pred_labels))"
      ]
    },
    {
      "cell_type": "code",
      "execution_count": null,
      "metadata": {
        "id": "Dm0s9vQYreLl"
      },
      "outputs": [],
      "source": [
        "#checking instance for Deep Learning model\n",
        "Check_instance1=pd.DataFrame(Y_pred_labels,columns=[\"Y_pred_labels\"])\n",
        "y_test.reset_index(drop=True, inplace=True)\n",
        "Check_instance1[\"y_test\"]=y_test\n",
        "Check_instance1.head(10)"
      ]
    },
    {
      "cell_type": "code",
      "execution_count": null,
      "metadata": {
        "id": "PK6mEOUanbxQ"
      },
      "outputs": [],
      "source": [
        "from sklearn.metrics import precision_recall_fscore_support as score\n",
        "from sklearn import metrics\n",
        "\n",
        "precision,recall,fscore,support=score(y_test,Y_pred_labels)\n",
        "\n",
        "print(\"precision:{}\".format(precision))\n",
        "print(\"recall:{}\".format(recall))\n",
        "\n",
        "print(\"fscore:{}\".format(fscore))\n",
        "print(\"support:{}\".format(support))\n",
        "\n",
        "print(metrics.classification_report(y_test,Y_pred_labels))\n"
      ]
    },
    {
      "cell_type": "code",
      "execution_count": null,
      "metadata": {
        "id": "VrKtmJjBrhGw"
      },
      "outputs": [],
      "source": [
        "#>>>>>>>>>>>>>>>>>>>>>>>>>>>>>>>>>>>>>>>>>>>>>>>>>>>>>>>>>>>>>>>>>>>>>>>>>>>>>>>>>>>>>>>>>>>>>>>>>>>>>>>>>>>>>>>>>>>>>>>>>>>>>>>>>>>>>>>>>>>>>>>>>>>>>>>>>>>>>>>>>>>>>>>>>>>>>>>>"
      ]
    },
    {
      "cell_type": "code",
      "execution_count": null,
      "metadata": {
        "id": "ocEgUuAhd01Q"
      },
      "outputs": [],
      "source": [
        "                                                        #Method 2:Deep learing Model:Keras with Tenserflow With cross validation"
      ]
    },
    {
      "cell_type": "code",
      "execution_count": null,
      "metadata": {
        "id": "l6ShAkrVsojT"
      },
      "outputs": [],
      "source": [
        "# Convert to numpy - Classification\n",
        "\n",
        "#x=df_fulldata.drop(columns=['Direction'])\n",
        "#y=df_fulldata['Direction']\n",
        "\n",
        "x_columns = df_fulldata.columns.drop('Direction')\n",
        "x = df_fulldata[x_columns].values\n",
        "dummies = pd.get_dummies(df_fulldata['Direction']) # Classification\n",
        "products = dummies.columns\n",
        "y = dummies.values"
      ]
    },
    {
      "cell_type": "code",
      "execution_count": null,
      "metadata": {
        "id": "MFmIIAD3srik"
      },
      "outputs": [],
      "source": [
        "import pandas as pd\n",
        "import os\n",
        "import numpy as np\n",
        "from sklearn import metrics\n",
        "from sklearn.model_selection import KFold\n",
        "from tensorflow.keras.models import Sequential\n",
        "from tensorflow.keras.layers import Dense, Activation\n",
        "from tensorflow.keras import regularizers\n",
        "\n",
        "# Cross-validate\n",
        "kf = KFold(10, shuffle=True, random_state=42)\n",
        "\n",
        "oos_y = []\n",
        "oos_pred = []\n",
        "\n",
        "oos_y_train = []\n",
        "oos_pred_train = []\n",
        "\n",
        "fold = 0\n",
        "\n",
        "for train, test in kf.split(x):\n",
        "    fold+=1\n",
        "    print(f\"Fold #{fold}\")\n",
        "\n",
        "    X_train = x[train]\n",
        "    Y_train = y[train]\n",
        "    X_test = x[test]\n",
        "    Y_test = y[test]\n",
        "\n",
        "    kernel_regularizer=regularizers.l2(0.01),\n",
        "\n",
        "    model = Sequential()\n",
        "    # Hidden 1\n",
        "    model.add(Dense(56, input_dim=x.shape[1],\n",
        "            activation='relu',\n",
        "             activity_regularizer=regularizers.l1(1e-4)))\n",
        "    # Hidden 2\n",
        "    model.add(Dense(25, activation='relu',\n",
        "                    activity_regularizer=regularizers.l1(1e-4)))\n",
        "     # Output\n",
        "    model.add(Dense(y.shape[1],activation='softmax'))\n",
        "    model.compile(loss='categorical_crossentropy', optimizer='adam')\n",
        "\n",
        "    model.fit(X_train,Y_train,validation_data=(X_test,Y_test),verbose=0,epochs=10)\n",
        "\n",
        "    Y_pred_test = model.predict(X_test)#\n",
        "\n",
        "    Y_pred_train = model.predict(X_train) #\n",
        "\n",
        "    oos_y.append(Y_test)\n",
        "    # raw probabilities to chosen class (highest probability)\n",
        "    Y_pred_test = np.argmax(Y_pred_test,axis=1)\n",
        "    oos_pred.append(Y_pred_test)\n",
        "\n",
        "    oos_y_train.append(Y_train)\n",
        "    # raw probabilities to chosen class (highest probability)\n",
        "    Y_pred_train = np.argmax(Y_pred_train,axis=1)\n",
        "    oos_pred_train.append(Y_pred_train)\n",
        "\n",
        "\n",
        "    # Measure this fold's accuracy-test\n",
        "    y_compare = np.argmax(Y_test,axis=1) # For accuracy calculation\n",
        "    score = metrics.accuracy_score(y_compare, Y_pred_test)\n",
        "    print(f\"Fold score- Test (accuracy): {score}\")\n",
        "\n",
        "    # Measure this fold's accuracy-train\n",
        "    y_compare_train = np.argmax(Y_train,axis=1) # For accuracy calculation\n",
        "    score_train = metrics.accuracy_score(y_compare_train, Y_pred_train)\n",
        "    print(f\"Fold score- Train (accuracy): {score_train}\")\n",
        "\n",
        "\n",
        "# Build the oos prediction list and calculate the error.\n",
        "oos_y = np.concatenate(oos_y) #Ytest\n",
        "oos_pred = np.concatenate(oos_pred) #ypredtest\n",
        "oos_y_compare = np.argmax(oos_y,axis=1) # For accuracy calculation:comparing y_test & y_pred_test\n",
        "score = metrics.accuracy_score(oos_y_compare, oos_pred) #accuracy calculation\n",
        "print(f\"Final score-test (accuracy): {score}\")\n",
        "\n",
        "# Build the oos prediction list and calculate the error.\n",
        "oos_y_train = np.concatenate(oos_y_train) #Ytrain\n",
        "oos_pred_train = np.concatenate(oos_pred_train) #ypredtrain\n",
        "oos_y_compare_train = np.argmax(oos_y_train,axis=1) # For accuracy calculation:comparing\n",
        "score = metrics.accuracy_score(oos_y_compare_train, oos_pred_train) #accuracy calculation train\n",
        "print(f\"Final score-train (accuracy): {score}\")\n",
        "\n",
        "\n"
      ]
    },
    {
      "cell_type": "code",
      "execution_count": null,
      "metadata": {
        "id": "02w3BkymQLQA"
      },
      "outputs": [],
      "source": [
        "\n",
        "\n",
        "Y_pred_labels = [np.argmax(i) for i in oos_pred]\n",
        "print(Y_pred_labels)\n",
        "print(type(y_test))\n",
        "Y_pred_labels=pd.Series(Y_pred_labels)\n",
        "print(type(Y_pred_labels))\n",
        "\n",
        "# Write the cross-validated prediction\n",
        "oos_y = pd.DataFrame(oos_y) #new df with y _test\n",
        "oos_pred = pd.DataFrame(oos_pred) #new df y_pred_test\n",
        "oosDF = pd.concat( [oos_y, Y_pred_labels],axis=1 ) #new df with ytest,yprestest,\n",
        "#oosDF.to_csv(filename_write,index=False)\n",
        "oosDF"
      ]
    },
    {
      "cell_type": "code",
      "execution_count": null,
      "metadata": {
        "id": "ui0VN896MTkE"
      },
      "outputs": [],
      "source": [
        "oosDF"
      ]
    },
    {
      "cell_type": "code",
      "execution_count": null,
      "metadata": {
        "id": "IUFpWSOhIi-q"
      },
      "outputs": [],
      "source": [
        "#model.predict() gives the prediction probability of each class for that data point\n",
        "# converting the prediction probability to class labels\n",
        "\n",
        "Y_pred_labels = [np.argmax(i) for i in Y_pred_test]\n",
        "print(Y_pred_labels)\n",
        "print(type(y_test))\n",
        "print(type(Y_pred_labels))\n",
        "\n",
        "#checking instance for Deep Learning model\n",
        "Check_instance2=pd.DataFrame(Y_pred_labels,columns=[\"Y_pred_labels\"])\n",
        "y_test.reset_index(drop=True, inplace=True)\n",
        "Check_instance2[\"y_test\"]=y_test\n",
        "Check_instance2.head(10)\n",
        "\n",
        "\n"
      ]
    },
    {
      "cell_type": "code",
      "execution_count": null,
      "metadata": {
        "id": "IrU5OQzVPmrD"
      },
      "outputs": [],
      "source": [
        "#>>>>>>>>>>>>>>>>>>>>>>>>>>>>>>>>>>>>>>>>>>>>>>>>>>>>>>>>>>>>>>>>>>>>>>>>>>>>>>>>>>>>>>>>>>>>>>>>>>>>>>>>>>>>>>>>>>>>>>>>>>>>>>>>>>>>>>>>>>>>>>>>>>>>>>>>>>>>>>>>>>>>>>"
      ]
    },
    {
      "cell_type": "code",
      "execution_count": null,
      "metadata": {
        "id": "itWhCKCtWmJ0"
      },
      "outputs": [],
      "source": [
        "                                                        #METHOD 3:Applications of Deep Neural Networks:PyTorch Multiclass Classification for Deep Neural Networks"
      ]
    },
    {
      "cell_type": "code",
      "execution_count": null,
      "metadata": {
        "id": "2lcsUN1jWndg"
      },
      "outputs": [],
      "source": [
        "#Part 4.1: Encoding a Feature Vector for PyTorch Deep Learning [Video] [Notebook]\n",
        "#Part 4.2: PyTorch Multiclass Classification for Deep Neural Networks with ROC and AUC [Video] [Notebook]\n"
      ]
    },
    {
      "cell_type": "code",
      "execution_count": null,
      "metadata": {
        "id": "zfU5Rf6GSfrZ"
      },
      "outputs": [],
      "source": [
        "#https://www.youtube.com/watch?v=EoqXQTT74vY&ab_channel=JeffHeaton\n",
        "#https://github.com/jeffheaton/t81_558_de ep_learning/blob/pytorch/t81_558_class_04_2_multi_class.ipynb"
      ]
    },
    {
      "cell_type": "code",
      "execution_count": null,
      "metadata": {
        "id": "U8u9hpGvNZKU"
      },
      "outputs": [],
      "source": [
        "import pandas as pd\n",
        "from scipy.stats import zscore\n",
        "from sklearn import preprocessing\n",
        "\n",
        "\n",
        "# Convert to numpy - Classification\n",
        "x_columns = df_fulldata.columns.drop('Direction') #.drop('id')\n",
        "x = df_fulldata[x_columns].values\n",
        "\n",
        "le = preprocessing.LabelEncoder()\n",
        "y = le.fit_transform(df_fulldata['Direction'])\n",
        "products = le.classes_\n",
        "\n",
        "\n",
        "#dummies = pd.get_dummies(df_fulldata['Direction']) # Classification\n",
        "#products = dummies.columns\n",
        "#y = dummies.values"
      ]
    },
    {
      "cell_type": "code",
      "execution_count": null,
      "metadata": {
        "id": "uYTZbW_pNsZM"
      },
      "outputs": [],
      "source": [
        "import torch\n",
        "import io\n",
        "import copy\n",
        "\n",
        "try:\n",
        "    COLAB = True\n",
        "    print(\"Note: using Google CoLab\")\n",
        "except:\n",
        "    print(\"Note: not using Google CoLab\")\n",
        "    COLAB = False\n",
        "\n",
        "# Early stopping (see Module 3.4)\n",
        "class EarlyStopping():\n",
        "  def __init__(self, patience=5, min_delta=0, restore_best_weights=True):\n",
        "    self.patience = patience\n",
        "    self.min_delta = min_delta\n",
        "    self.restore_best_weights = restore_best_weights\n",
        "    self.best_model = None\n",
        "    self.best_loss = None\n",
        "    self.counter = 0\n",
        "    self.status = \"\"\n",
        "\n",
        "  def __call__(self, model, val_loss):\n",
        "    if self.best_loss == None:\n",
        "      self.best_loss = val_loss\n",
        "      self.best_model = copy.deepcopy(model)\n",
        "    elif self.best_loss - val_loss > self.min_delta:\n",
        "      self.best_loss = val_loss\n",
        "      self.counter = 0\n",
        "      self.best_model.load_state_dict(model.state_dict())\n",
        "    elif self.best_loss - val_loss < self.min_delta:\n",
        "      self.counter += 1\n",
        "      if self.counter >= self.patience:\n",
        "        self.status = f\"Stopped on {self.counter}\"\n",
        "        if self.restore_best_weights:\n",
        "          model.load_state_dict(self.best_model.state_dict())\n",
        "        return True\n",
        "    self.status = f\"{self.counter}/{self.patience}\"\n",
        "    return False\n",
        "\n",
        "# Make use of a GPU or MPS (Apple) if one is available. (see Module 3.2)\n",
        "device = \"mps\" if getattr(torch,'has_mps',False) \\\n",
        "    else \"cuda\" if torch.cuda.is_available() else \"cpu\"\n",
        "print(f\"Using device: {device}\")\n",
        "\n",
        "\n",
        "import torch\n",
        "import io\n",
        "import copy\n",
        "from sklearn.model_selection import train_test_split\n",
        "from sklearn.metrics import accuracy_score\n",
        "import torch.nn as nn\n",
        "import torch.nn.functional as F\n",
        "import numpy as np\n",
        "from torch.autograd import Variable\n",
        "from sklearn import preprocessing\n",
        "from torch.utils.data import DataLoader, TensorDataset\n",
        "import tqdm\n",
        "import time\n",
        "\n",
        "# Define the PyTorch Neural Network\n",
        "class Net(nn.Module):\n",
        "    def __init__(self, in_count, out_count):\n",
        "        super(Net, self).__init__()\n",
        "        self.fc1 = nn.Linear(in_count, 50)\n",
        "        self.fc2 = nn.Linear(50, 25)\n",
        "        self.fc3 = nn.Linear(25, out_count)\n",
        "        self.softmax = nn.Softmax(dim=1)\n",
        "\n",
        "    def forward(self, x):\n",
        "        x = F.relu(self.fc1(x))\n",
        "        x = F.relu(self.fc2(x))\n",
        "        return self.softmax(self.fc3(x))\n",
        "\n",
        "# Split into validation and training sets\n",
        "x_train, x_test, y_train, y_test = train_test_split(\n",
        "    x, y, test_size=0.25, random_state=42)\n",
        "\n",
        "# Numpy to Torch Tensor\n",
        "x_train = torch.Tensor(x_train).float()\n",
        "y_train = torch.Tensor(y_train).long()\n",
        "\n",
        "x_test = torch.Tensor(x_test).float()\n",
        "y_test = torch.Tensor(y_test).long()\n",
        "\n",
        "\n",
        "# Create datasets\n",
        "BATCH_SIZE = 16\n",
        "\n",
        "dataset_train = TensorDataset(x_train, y_train)\n",
        "dataloader_train = DataLoader(dataset_train,\\\n",
        "  batch_size=BATCH_SIZE, shuffle=True)\n",
        "\n",
        "dataset_test = TensorDataset(x_test, y_test)\n",
        "dataloader_test = DataLoader(dataset_test,\\\n",
        "  batch_size=BATCH_SIZE, shuffle=True)\n",
        "\n",
        "\n",
        "# Create model\n",
        "model = Net(x.shape[1],len(products))\n",
        "\n",
        "loss_fn = nn.CrossEntropyLoss()# cross entropy loss\n",
        "\n",
        "optimizer = torch.optim.Adam(model.parameters()) # , lr=0.01\n",
        "es = EarlyStopping()\n",
        "\n",
        "epoch = 0\n",
        "done = False\n",
        "while epoch<1000 and not done:\n",
        "  epoch += 1\n",
        "  steps = list(enumerate(dataloader_train))\n",
        "  pbar = tqdm.tqdm(steps)\n",
        "  model.train()\n",
        "  for i, (x_batch, y_batch) in pbar:\n",
        "    y_batch_pred = model(x_batch)\n",
        "    loss = loss_fn(y_batch_pred, y_batch)\n",
        "    optimizer.zero_grad()\n",
        "    loss.backward()\n",
        "    optimizer.step()\n",
        "\n",
        "    loss, current = loss.item(), (i + 1)* len(x_batch)\n",
        "    if i == len(steps)-1:\n",
        "      model.eval()\n",
        "      pred = model(x_test)\n",
        "      vloss = loss_fn(pred, y_test)\n",
        "      if es(model,vloss): done = True\n",
        "      pbar.set_description(f\"Epoch: {epoch}, tloss: {loss}, vloss: {vloss:>7f}, EStop:[{es.status}]\")\n",
        "    else:\n",
        "      pbar.set_description(f\"Epoch: {epoch}, tloss {loss:}\")"
      ]
    },
    {
      "cell_type": "code",
      "execution_count": null,
      "metadata": {
        "id": "SUDrrnvCOQdX"
      },
      "outputs": [],
      "source": [
        "#Calculate Classification Accuracy\n",
        "pred = model(x_test)\n",
        "_, predict_classes = torch.max(pred, 1)"
      ]
    },
    {
      "cell_type": "code",
      "execution_count": null,
      "metadata": {
        "id": "iukeHYVETz1O"
      },
      "outputs": [],
      "source": [
        "\n",
        "from sklearn import metrics\n",
        "\n",
        "score = metrics.accuracy_score(y_test, predict_classes)\n",
        "print(\"Accuracy score: {}\".format(score))"
      ]
    },
    {
      "cell_type": "code",
      "execution_count": null,
      "metadata": {
        "id": "7ZBYuVRUU38o"
      },
      "outputs": [],
      "source": [
        "from IPython.display import display\n",
        "\n",
        "# Don't display numpy in scientific notation\n",
        "np.set_printoptions(precision=4)\n",
        "np.set_printoptions(suppress=True)\n",
        "\n",
        "# Generate predictions\n",
        "pred = model(x_test)\n",
        "\n",
        "print(\"Numpy array of predictions\")\n",
        "display(pred[0:5])\n",
        "\n",
        "print(\"As percent probability\")\n",
        "print(pred[0]*100)\n",
        "\n",
        "score = metrics.log_loss(y_test, pred.detach())\n",
        "print(\"Log loss score: {}\".format(score))\n",
        "\n",
        "# raw probabilities to chosen class (highest probability)\n",
        "_, predict_classes = torch.max(pred, 1)"
      ]
    },
    {
      "cell_type": "code",
      "execution_count": null,
      "metadata": {
        "id": "dq4udIK3VMyh"
      },
      "outputs": [],
      "source": [
        "#The log function is useful to penalizing wrong answers. The following code demonstrates the utility of the log function:\n",
        "%matplotlib inline\n",
        "from matplotlib.pyplot import figure, show\n",
        "from numpy import arange, sin, pi\n",
        "\n",
        "#t = arange(1e-5, 5.0, 0.00001)\n",
        "#t = arange(1.0, 5.0, 0.00001) # computer scientists\n",
        "t = arange(1e-6, 1.0, 1e-2)  # data     scientists\n",
        "\n",
        "fig = figure(1,figsize=(12, 10))\n",
        "\n",
        "ax1 = fig.add_subplot(211)\n",
        "ax1.plot(t, np.log(t))\n",
        "ax1.grid(True)\n",
        "ax1.set_ylim((-8, 1.5))\n",
        "ax1.set_xlim((-0.1, 2))\n",
        "ax1.set_xlabel('x')\n",
        "ax1.set_ylabel('y')\n",
        "ax1.set_title('log(x)')\n",
        "\n",
        "show()"
      ]
    },
    {
      "cell_type": "code",
      "execution_count": null,
      "metadata": {
        "id": "6O1sVcq7VaWd"
      },
      "outputs": [],
      "source": [
        "%matplotlib inline\n",
        "import matplotlib.pyplot as plt\n",
        "from sklearn.metrics import roc_curve, auc\n",
        "\n",
        "# Plot a confusion matrix.\n",
        "# cm is the confusion matrix, names are the names of the classes.\n",
        "def plot_confusion_matrix(cm, names, title='Confusion matrix',\n",
        "                            cmap=plt.cm.Blues):\n",
        "    plt.imshow(cm, interpolation='nearest', cmap=cmap)\n",
        "    plt.title(title)\n",
        "    plt.colorbar()\n",
        "    tick_marks = np.arange(len(names))\n",
        "    plt.xticks(tick_marks, names, rotation=45)\n",
        "    plt.yticks(tick_marks, names)\n",
        "    plt.tight_layout()\n",
        "    plt.ylabel('True label')\n",
        "    plt.xlabel('Predicted label')\n",
        "\n",
        "\n",
        "# Plot an ROC. pred - the predictions, y - the expected output.\n",
        "def plot_roc(pred,y):\n",
        "    fpr, tpr, _ = roc_curve(y, pred)\n",
        "    roc_auc = auc(fpr, tpr)\n",
        "\n",
        "    plt.figure()\n",
        "    plt.plot(fpr, tpr, label='ROC curve (area = %0.2f)' % roc_auc)\n",
        "    plt.plot([0, 1], [0, 1], 'k--')\n",
        "    plt.xlim([0.0, 1.0])\n",
        "    plt.ylim([0.0, 1.05])\n",
        "    plt.xlabel('False Positive Rate')\n",
        "    plt.ylabel('True Positive Rate')\n",
        "    plt.title('Receiver Operating Characteristic (ROC)')\n",
        "    plt.legend(loc=\"lower right\")\n",
        "    plt.show()\n",
        "\n",
        "#Confusion Matrix\n",
        "import numpy as np\n",
        "from sklearn import svm, datasets\n",
        "from sklearn.model_selection import train_test_split\n",
        "from sklearn.metrics import confusion_matrix\n",
        "\n",
        "# Compute confusion matrix\n",
        "cm = confusion_matrix(y_test, predict_classes)\n",
        "np.set_printoptions(precision=2)\n",
        "\n",
        "# Normalize the confusion matrix by row (i.e by the number of samples\n",
        "# in each class)\n",
        "cm_normalized = cm.astype('float') / cm.sum(axis=1)[:, np.newaxis]\n",
        "print('Normalized confusion matrix')\n",
        "print(cm_normalized)\n",
        "plt.figure()\n",
        "plot_confusion_matrix(cm_normalized, products,\n",
        "        title='Normalized confusion matrix')\n",
        "\n",
        "plt.show()"
      ]
    },
    {
      "cell_type": "code",
      "execution_count": null,
      "metadata": {
        "id": "BDo7itHnVrwo"
      },
      "outputs": [],
      "source": []
    }
  ],
  "metadata": {
    "colab": {
      "provenance": [],
      "authorship_tag": "ABX9TyPv5+90llBgTHxmYdHlLIVg",
      "include_colab_link": true
    },
    "kernelspec": {
      "display_name": "Python 3",
      "name": "python3"
    },
    "language_info": {
      "name": "python"
    }
  },
  "nbformat": 4,
  "nbformat_minor": 0
}