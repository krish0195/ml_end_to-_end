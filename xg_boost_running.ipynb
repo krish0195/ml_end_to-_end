{
  "nbformat": 4,
  "nbformat_minor": 0,
  "metadata": {
    "colab": {
      "provenance": [],
      "authorship_tag": "ABX9TyNEaA5yo6s/nOOQCR6ctmay",
      "include_colab_link": true
    },
    "kernelspec": {
      "name": "python3",
      "display_name": "Python 3"
    },
    "language_info": {
      "name": "python"
    }
  },
  "cells": [
    {
      "cell_type": "markdown",
      "metadata": {
        "id": "view-in-github",
        "colab_type": "text"
      },
      "source": [
        "<a href=\"https://colab.research.google.com/github/krish0195/ml_end_to-_end/blob/master/xg_boost_running.ipynb\" target=\"_parent\"><img src=\"https://colab.research.google.com/assets/colab-badge.svg\" alt=\"Open In Colab\"/></a>"
      ]
    },
    {
      "cell_type": "code",
      "execution_count": 1,
      "metadata": {
        "id": "xd6oHKitAnrs"
      },
      "outputs": [],
      "source": [
        "#Use to import pandas\n",
        "import pandas as pd\n",
        "#Use to import the file into google Colab drive\n",
        "from google.colab import files\n",
        "#Use to import io, which opens the file from the Colab drive\n",
        "import io\n",
        "import numpy as np\n",
        "import matplotlib.pyplot as plt\n",
        "%matplotlib inline\n",
        "from sklearn.model_selection import train_test_split\n",
        "from sklearn import metrics\n",
        "from sklearn.ensemble import RandomForestClassifier\n",
        "from sklearn.linear_model import LogisticRegression\n",
        "import seaborn as sns\n",
        "import warnings\n",
        "warnings.filterwarnings(\"ignore\")\n",
        "from sklearn import metrics\n",
        "from sklearn.metrics import roc_auc_score,roc_curve,classification_report,confusion_matrix\n",
        "from sklearn.pipeline import Pipeline\n",
        "from collections import Counter\n",
        "from imblearn.over_sampling import SMOTE\n",
        "from sklearn.metrics import accuracy_score, precision_score, recall_score, f1_score\n",
        "import pandas as pd\n",
        "pd.set_option('display.max_rows', 500)\n",
        "pd.set_option('display.max_columns', 500)\n",
        "pd.set_option('display.width', 1000)\n",
        "from sklearn.preprocessing import StandardScaler\n",
        "std_scale=StandardScaler()\n",
        "from sklearn.linear_model import LogisticRegression\n",
        "from sklearn.tree import DecisionTreeClassifier\n",
        "from sklearn.ensemble import RandomForestClassifier\n",
        "import lime\n",
        "from lime import lime_tabula"
      ]
    },
    {
      "cell_type": "code",
      "source": [
        "#SparseNormalizer, XGBoostClassifier"
      ],
      "metadata": {
        "id": "QfIMgPKdn9MX"
      },
      "execution_count": null,
      "outputs": []
    },
    {
      "cell_type": "code",
      "source": [
        "# This will open a widget when run that will enable you to browse the files on your local storage drive.\n",
        "# the excel file after reshaping each to 1000 records:\n",
        "uploaded = files.upload()"
      ],
      "metadata": {
        "colab": {
          "base_uri": "https://localhost:8080/",
          "height": 71
        },
        "id": "1WwV7xqcCBbL",
        "outputId": "6e02b3be-dee8-4cbc-bf59-4432dc62da65"
      },
      "execution_count": 3,
      "outputs": [
        {
          "output_type": "display_data",
          "data": {
            "text/plain": [
              "<IPython.core.display.HTML object>"
            ],
            "text/html": [
              "\n",
              "     <input type=\"file\" id=\"files-c38dd93f-0be1-44eb-a11d-fdf16edb31e3\" name=\"files[]\" multiple disabled\n",
              "        style=\"border:none\" />\n",
              "     <output id=\"result-c38dd93f-0be1-44eb-a11d-fdf16edb31e3\">\n",
              "      Upload widget is only available when the cell has been executed in the\n",
              "      current browser session. Please rerun this cell to enable.\n",
              "      </output>\n",
              "      <script>// Copyright 2017 Google LLC\n",
              "//\n",
              "// Licensed under the Apache License, Version 2.0 (the \"License\");\n",
              "// you may not use this file except in compliance with the License.\n",
              "// You may obtain a copy of the License at\n",
              "//\n",
              "//      http://www.apache.org/licenses/LICENSE-2.0\n",
              "//\n",
              "// Unless required by applicable law or agreed to in writing, software\n",
              "// distributed under the License is distributed on an \"AS IS\" BASIS,\n",
              "// WITHOUT WARRANTIES OR CONDITIONS OF ANY KIND, either express or implied.\n",
              "// See the License for the specific language governing permissions and\n",
              "// limitations under the License.\n",
              "\n",
              "/**\n",
              " * @fileoverview Helpers for google.colab Python module.\n",
              " */\n",
              "(function(scope) {\n",
              "function span(text, styleAttributes = {}) {\n",
              "  const element = document.createElement('span');\n",
              "  element.textContent = text;\n",
              "  for (const key of Object.keys(styleAttributes)) {\n",
              "    element.style[key] = styleAttributes[key];\n",
              "  }\n",
              "  return element;\n",
              "}\n",
              "\n",
              "// Max number of bytes which will be uploaded at a time.\n",
              "const MAX_PAYLOAD_SIZE = 100 * 1024;\n",
              "\n",
              "function _uploadFiles(inputId, outputId) {\n",
              "  const steps = uploadFilesStep(inputId, outputId);\n",
              "  const outputElement = document.getElementById(outputId);\n",
              "  // Cache steps on the outputElement to make it available for the next call\n",
              "  // to uploadFilesContinue from Python.\n",
              "  outputElement.steps = steps;\n",
              "\n",
              "  return _uploadFilesContinue(outputId);\n",
              "}\n",
              "\n",
              "// This is roughly an async generator (not supported in the browser yet),\n",
              "// where there are multiple asynchronous steps and the Python side is going\n",
              "// to poll for completion of each step.\n",
              "// This uses a Promise to block the python side on completion of each step,\n",
              "// then passes the result of the previous step as the input to the next step.\n",
              "function _uploadFilesContinue(outputId) {\n",
              "  const outputElement = document.getElementById(outputId);\n",
              "  const steps = outputElement.steps;\n",
              "\n",
              "  const next = steps.next(outputElement.lastPromiseValue);\n",
              "  return Promise.resolve(next.value.promise).then((value) => {\n",
              "    // Cache the last promise value to make it available to the next\n",
              "    // step of the generator.\n",
              "    outputElement.lastPromiseValue = value;\n",
              "    return next.value.response;\n",
              "  });\n",
              "}\n",
              "\n",
              "/**\n",
              " * Generator function which is called between each async step of the upload\n",
              " * process.\n",
              " * @param {string} inputId Element ID of the input file picker element.\n",
              " * @param {string} outputId Element ID of the output display.\n",
              " * @return {!Iterable<!Object>} Iterable of next steps.\n",
              " */\n",
              "function* uploadFilesStep(inputId, outputId) {\n",
              "  const inputElement = document.getElementById(inputId);\n",
              "  inputElement.disabled = false;\n",
              "\n",
              "  const outputElement = document.getElementById(outputId);\n",
              "  outputElement.innerHTML = '';\n",
              "\n",
              "  const pickedPromise = new Promise((resolve) => {\n",
              "    inputElement.addEventListener('change', (e) => {\n",
              "      resolve(e.target.files);\n",
              "    });\n",
              "  });\n",
              "\n",
              "  const cancel = document.createElement('button');\n",
              "  inputElement.parentElement.appendChild(cancel);\n",
              "  cancel.textContent = 'Cancel upload';\n",
              "  const cancelPromise = new Promise((resolve) => {\n",
              "    cancel.onclick = () => {\n",
              "      resolve(null);\n",
              "    };\n",
              "  });\n",
              "\n",
              "  // Wait for the user to pick the files.\n",
              "  const files = yield {\n",
              "    promise: Promise.race([pickedPromise, cancelPromise]),\n",
              "    response: {\n",
              "      action: 'starting',\n",
              "    }\n",
              "  };\n",
              "\n",
              "  cancel.remove();\n",
              "\n",
              "  // Disable the input element since further picks are not allowed.\n",
              "  inputElement.disabled = true;\n",
              "\n",
              "  if (!files) {\n",
              "    return {\n",
              "      response: {\n",
              "        action: 'complete',\n",
              "      }\n",
              "    };\n",
              "  }\n",
              "\n",
              "  for (const file of files) {\n",
              "    const li = document.createElement('li');\n",
              "    li.append(span(file.name, {fontWeight: 'bold'}));\n",
              "    li.append(span(\n",
              "        `(${file.type || 'n/a'}) - ${file.size} bytes, ` +\n",
              "        `last modified: ${\n",
              "            file.lastModifiedDate ? file.lastModifiedDate.toLocaleDateString() :\n",
              "                                    'n/a'} - `));\n",
              "    const percent = span('0% done');\n",
              "    li.appendChild(percent);\n",
              "\n",
              "    outputElement.appendChild(li);\n",
              "\n",
              "    const fileDataPromise = new Promise((resolve) => {\n",
              "      const reader = new FileReader();\n",
              "      reader.onload = (e) => {\n",
              "        resolve(e.target.result);\n",
              "      };\n",
              "      reader.readAsArrayBuffer(file);\n",
              "    });\n",
              "    // Wait for the data to be ready.\n",
              "    let fileData = yield {\n",
              "      promise: fileDataPromise,\n",
              "      response: {\n",
              "        action: 'continue',\n",
              "      }\n",
              "    };\n",
              "\n",
              "    // Use a chunked sending to avoid message size limits. See b/62115660.\n",
              "    let position = 0;\n",
              "    do {\n",
              "      const length = Math.min(fileData.byteLength - position, MAX_PAYLOAD_SIZE);\n",
              "      const chunk = new Uint8Array(fileData, position, length);\n",
              "      position += length;\n",
              "\n",
              "      const base64 = btoa(String.fromCharCode.apply(null, chunk));\n",
              "      yield {\n",
              "        response: {\n",
              "          action: 'append',\n",
              "          file: file.name,\n",
              "          data: base64,\n",
              "        },\n",
              "      };\n",
              "\n",
              "      let percentDone = fileData.byteLength === 0 ?\n",
              "          100 :\n",
              "          Math.round((position / fileData.byteLength) * 100);\n",
              "      percent.textContent = `${percentDone}% done`;\n",
              "\n",
              "    } while (position < fileData.byteLength);\n",
              "  }\n",
              "\n",
              "  // All done.\n",
              "  yield {\n",
              "    response: {\n",
              "      action: 'complete',\n",
              "    }\n",
              "  };\n",
              "}\n",
              "\n",
              "scope.google = scope.google || {};\n",
              "scope.google.colab = scope.google.colab || {};\n",
              "scope.google.colab._files = {\n",
              "  _uploadFiles,\n",
              "  _uploadFilesContinue,\n",
              "};\n",
              "})(self);\n",
              "</script> "
            ]
          },
          "metadata": {}
        },
        {
          "output_type": "stream",
          "name": "stdout",
          "text": [
            "Saving Final_df.csv to Final_df.csv\n"
          ]
        }
      ]
    },
    {
      "cell_type": "code",
      "source": [
        "\n",
        "df_fulldata=pd.read_csv('Final_df.csv')\n",
        "df_fulldata.head()"
      ],
      "metadata": {
        "colab": {
          "base_uri": "https://localhost:8080/",
          "height": 288
        },
        "id": "xuASwcX2CHJ_",
        "outputId": "dbff1fd9-518b-4a54-a28c-6ead06044cd5"
      },
      "execution_count": 103,
      "outputs": [
        {
          "output_type": "execute_result",
          "data": {
            "text/plain": [
              "   Sr No      time  stern_mast_r  cleid_mas_r  cleid_occ_r  long_cap_sklc4_r  long_col_c1thx_r  long_col_c1c5_r  long_col_c5thx_r  trap_acr_r  splen_cerv_c3thx_r  semi_cap_sklc5_r  levator_scap_r  longissi_cap_sklc6_r  longissi_cerv_c4thx_r  iliocost_cerv_c5rib_r  rectcap_post_maj_r  rectcap_post_min_r  obl_cap_sup_r  obl_cap_inf_r  digastric_post_r  digastric_ant_r  Geniohyoid_r  Mylohyoid_Post_r  Mylohyoid_Ant_r  Stylohyoid_Lat_r  Stylohyoid_Med_r  Sterno_hyoid_r  SternoThyroid_r  Omo_hyoid_r  stern_mast_l  cleid_mast_l  cleid_occ_l  long_cap_sklc4_l  long_col_c1thx_l  long_col_c1c5_l  long_col_c5thx_l  trap_acr_l  splen_cerv_c3thx_l  semi_cap_sklc5_l  levator_scap_l  longissi_cap_sklc6_l  longissi_cerv_c4thx_l  iliocost_cerv_c5rib_l  rectcap_post_maj_l  rectcap_post_min_l  obl_cap_sup_l  obl_cap_inf_l  digastric_post_l  digastric_ant_l  Geniohyoid_l  Mylohyoid_Post_l  Mylohyoid_Ant_l  Stylohyoid_Lat_l  Stylohyoid_Med_l  Sterno_hyoid_l  SternoThyroid_l  Omo_hyoid_l  \\\n",
              "0      1  0.000000     15.224083     7.329898     5.640508          4.864611          1.441753         1.441705          1.432433   63.239589            7.486504          8.959424       11.147425              4.716546               3.028918               3.019896            4.552728            2.566827       5.430573       6.848087          6.066963         3.807231      5.135560          2.806027         8.418082          1.028819          1.028841        3.070743         3.441343     3.970793     15.224083      7.329898     5.640508          4.864611          1.441753         1.441705          2.096794   63.239589            7.486504          8.959424       11.147425              4.716546               3.028918               3.019896            4.552728            2.566827       5.430573       6.848087          6.066963         3.807231      5.135560          2.806027         8.418082          1.028819          1.028841        3.070743         3.192654     3.836298   \n",
              "1      2  0.000233     15.294100     7.383138     5.668919          4.845135          1.443353         1.443358          1.431789   64.153269            7.530222          8.956275       11.170654              4.683953               3.073223               3.091184            4.642744            2.599317       5.444150       6.846499          6.086064         3.634936      4.813947          2.750926         7.707358          1.026095          1.025724        3.120961         3.490565     4.057301     15.293540      7.382788     5.668730          4.846819          1.443342         1.443731          2.095949   64.152866            7.531798          8.957287       11.171136              4.683851               3.072262               3.090338            4.642719            2.599317       5.444150       6.846402          6.077234         3.634936      4.813947          2.750926         7.707358          1.026774          1.026485        3.120761         3.248781     3.929045   \n",
              "2      3  0.000552     15.556113     7.572584     5.777622          4.761932          1.450133         1.450281          1.428901   67.604876            7.702682          8.941606       11.254600              4.555209               3.242777               3.359133            5.006113            2.736847       5.501278       6.839891          6.165724         2.991366      3.735757          2.528699         5.437963          1.014227          1.012177        3.321134         3.685095     4.407076     15.553191      7.570818     5.776619          4.771020          1.450073         1.452298          2.092197   67.602681            7.711268          8.946992       11.256895              4.554699               3.237829               3.354735            5.005968            2.736847       5.501278       6.839355          6.117054         2.991366      3.735757          2.528699         5.437963          1.017676          1.016033        3.320046         3.472213     4.304494   \n",
              "3      4  0.001190     16.394531     8.130792     6.137115          4.464246          1.474171         1.474061          1.416581   79.355084            8.320058          8.868740       11.524764              4.150429               3.788589               4.222563            6.270702            3.235264       5.703099       6.815741          6.473187         1.331174      1.583291          1.829167         1.545704          0.969852          0.961785        4.002108         4.336987     5.627499     16.382780      8.124059     6.132962          4.502724          1.473906         1.482770          2.076518   79.345254            8.357124          8.891229       11.532705              4.148542               3.768644               4.204224            6.269907            3.235264       5.703099       6.813077          6.255273         1.331174      1.583291          1.829167         1.545704          0.982653          0.976040        3.996953         4.228476     5.611956   \n",
              "4      5  0.001578     17.006705     8.509748     6.406233          4.245388          1.492229         1.491614          1.405159   88.408598            8.826196          8.788806       11.733791              3.885071               4.179901               4.857880            7.244183            3.623083       5.854482       6.796429          6.754502         0.578812      0.839202          1.391145         0.409532          0.934700          0.922107        4.488563         4.793725     6.529852     16.987830      8.499200     6.399463          4.308705          1.491774         1.506215          2.062260   88.391410            8.888049          8.825851       11.745649              3.882169               4.147357               4.826888            7.242563            3.623083       5.854482       6.791366          6.380686         0.578812      0.839202          1.391145         0.409532          0.956282          0.946078        4.479075         4.762351     6.570300   \n",
              "\n",
              "         Direction  Subject  \n",
              "0  Flexion_relaxed        1  \n",
              "1  Flexion_relaxed        1  \n",
              "2  Flexion_relaxed        1  \n",
              "3  Flexion_relaxed        1  \n",
              "4  Flexion_relaxed        1  "
            ],
            "text/html": [
              "\n",
              "\n",
              "  <div id=\"df-8670961f-39e8-4610-a4a3-927e09c33bd2\">\n",
              "    <div class=\"colab-df-container\">\n",
              "      <div>\n",
              "<style scoped>\n",
              "    .dataframe tbody tr th:only-of-type {\n",
              "        vertical-align: middle;\n",
              "    }\n",
              "\n",
              "    .dataframe tbody tr th {\n",
              "        vertical-align: top;\n",
              "    }\n",
              "\n",
              "    .dataframe thead th {\n",
              "        text-align: right;\n",
              "    }\n",
              "</style>\n",
              "<table border=\"1\" class=\"dataframe\">\n",
              "  <thead>\n",
              "    <tr style=\"text-align: right;\">\n",
              "      <th></th>\n",
              "      <th>Sr No</th>\n",
              "      <th>time</th>\n",
              "      <th>stern_mast_r</th>\n",
              "      <th>cleid_mas_r</th>\n",
              "      <th>cleid_occ_r</th>\n",
              "      <th>long_cap_sklc4_r</th>\n",
              "      <th>long_col_c1thx_r</th>\n",
              "      <th>long_col_c1c5_r</th>\n",
              "      <th>long_col_c5thx_r</th>\n",
              "      <th>trap_acr_r</th>\n",
              "      <th>splen_cerv_c3thx_r</th>\n",
              "      <th>semi_cap_sklc5_r</th>\n",
              "      <th>levator_scap_r</th>\n",
              "      <th>longissi_cap_sklc6_r</th>\n",
              "      <th>longissi_cerv_c4thx_r</th>\n",
              "      <th>iliocost_cerv_c5rib_r</th>\n",
              "      <th>rectcap_post_maj_r</th>\n",
              "      <th>rectcap_post_min_r</th>\n",
              "      <th>obl_cap_sup_r</th>\n",
              "      <th>obl_cap_inf_r</th>\n",
              "      <th>digastric_post_r</th>\n",
              "      <th>digastric_ant_r</th>\n",
              "      <th>Geniohyoid_r</th>\n",
              "      <th>Mylohyoid_Post_r</th>\n",
              "      <th>Mylohyoid_Ant_r</th>\n",
              "      <th>Stylohyoid_Lat_r</th>\n",
              "      <th>Stylohyoid_Med_r</th>\n",
              "      <th>Sterno_hyoid_r</th>\n",
              "      <th>SternoThyroid_r</th>\n",
              "      <th>Omo_hyoid_r</th>\n",
              "      <th>stern_mast_l</th>\n",
              "      <th>cleid_mast_l</th>\n",
              "      <th>cleid_occ_l</th>\n",
              "      <th>long_cap_sklc4_l</th>\n",
              "      <th>long_col_c1thx_l</th>\n",
              "      <th>long_col_c1c5_l</th>\n",
              "      <th>long_col_c5thx_l</th>\n",
              "      <th>trap_acr_l</th>\n",
              "      <th>splen_cerv_c3thx_l</th>\n",
              "      <th>semi_cap_sklc5_l</th>\n",
              "      <th>levator_scap_l</th>\n",
              "      <th>longissi_cap_sklc6_l</th>\n",
              "      <th>longissi_cerv_c4thx_l</th>\n",
              "      <th>iliocost_cerv_c5rib_l</th>\n",
              "      <th>rectcap_post_maj_l</th>\n",
              "      <th>rectcap_post_min_l</th>\n",
              "      <th>obl_cap_sup_l</th>\n",
              "      <th>obl_cap_inf_l</th>\n",
              "      <th>digastric_post_l</th>\n",
              "      <th>digastric_ant_l</th>\n",
              "      <th>Geniohyoid_l</th>\n",
              "      <th>Mylohyoid_Post_l</th>\n",
              "      <th>Mylohyoid_Ant_l</th>\n",
              "      <th>Stylohyoid_Lat_l</th>\n",
              "      <th>Stylohyoid_Med_l</th>\n",
              "      <th>Sterno_hyoid_l</th>\n",
              "      <th>SternoThyroid_l</th>\n",
              "      <th>Omo_hyoid_l</th>\n",
              "      <th>Direction</th>\n",
              "      <th>Subject</th>\n",
              "    </tr>\n",
              "  </thead>\n",
              "  <tbody>\n",
              "    <tr>\n",
              "      <th>0</th>\n",
              "      <td>1</td>\n",
              "      <td>0.000000</td>\n",
              "      <td>15.224083</td>\n",
              "      <td>7.329898</td>\n",
              "      <td>5.640508</td>\n",
              "      <td>4.864611</td>\n",
              "      <td>1.441753</td>\n",
              "      <td>1.441705</td>\n",
              "      <td>1.432433</td>\n",
              "      <td>63.239589</td>\n",
              "      <td>7.486504</td>\n",
              "      <td>8.959424</td>\n",
              "      <td>11.147425</td>\n",
              "      <td>4.716546</td>\n",
              "      <td>3.028918</td>\n",
              "      <td>3.019896</td>\n",
              "      <td>4.552728</td>\n",
              "      <td>2.566827</td>\n",
              "      <td>5.430573</td>\n",
              "      <td>6.848087</td>\n",
              "      <td>6.066963</td>\n",
              "      <td>3.807231</td>\n",
              "      <td>5.135560</td>\n",
              "      <td>2.806027</td>\n",
              "      <td>8.418082</td>\n",
              "      <td>1.028819</td>\n",
              "      <td>1.028841</td>\n",
              "      <td>3.070743</td>\n",
              "      <td>3.441343</td>\n",
              "      <td>3.970793</td>\n",
              "      <td>15.224083</td>\n",
              "      <td>7.329898</td>\n",
              "      <td>5.640508</td>\n",
              "      <td>4.864611</td>\n",
              "      <td>1.441753</td>\n",
              "      <td>1.441705</td>\n",
              "      <td>2.096794</td>\n",
              "      <td>63.239589</td>\n",
              "      <td>7.486504</td>\n",
              "      <td>8.959424</td>\n",
              "      <td>11.147425</td>\n",
              "      <td>4.716546</td>\n",
              "      <td>3.028918</td>\n",
              "      <td>3.019896</td>\n",
              "      <td>4.552728</td>\n",
              "      <td>2.566827</td>\n",
              "      <td>5.430573</td>\n",
              "      <td>6.848087</td>\n",
              "      <td>6.066963</td>\n",
              "      <td>3.807231</td>\n",
              "      <td>5.135560</td>\n",
              "      <td>2.806027</td>\n",
              "      <td>8.418082</td>\n",
              "      <td>1.028819</td>\n",
              "      <td>1.028841</td>\n",
              "      <td>3.070743</td>\n",
              "      <td>3.192654</td>\n",
              "      <td>3.836298</td>\n",
              "      <td>Flexion_relaxed</td>\n",
              "      <td>1</td>\n",
              "    </tr>\n",
              "    <tr>\n",
              "      <th>1</th>\n",
              "      <td>2</td>\n",
              "      <td>0.000233</td>\n",
              "      <td>15.294100</td>\n",
              "      <td>7.383138</td>\n",
              "      <td>5.668919</td>\n",
              "      <td>4.845135</td>\n",
              "      <td>1.443353</td>\n",
              "      <td>1.443358</td>\n",
              "      <td>1.431789</td>\n",
              "      <td>64.153269</td>\n",
              "      <td>7.530222</td>\n",
              "      <td>8.956275</td>\n",
              "      <td>11.170654</td>\n",
              "      <td>4.683953</td>\n",
              "      <td>3.073223</td>\n",
              "      <td>3.091184</td>\n",
              "      <td>4.642744</td>\n",
              "      <td>2.599317</td>\n",
              "      <td>5.444150</td>\n",
              "      <td>6.846499</td>\n",
              "      <td>6.086064</td>\n",
              "      <td>3.634936</td>\n",
              "      <td>4.813947</td>\n",
              "      <td>2.750926</td>\n",
              "      <td>7.707358</td>\n",
              "      <td>1.026095</td>\n",
              "      <td>1.025724</td>\n",
              "      <td>3.120961</td>\n",
              "      <td>3.490565</td>\n",
              "      <td>4.057301</td>\n",
              "      <td>15.293540</td>\n",
              "      <td>7.382788</td>\n",
              "      <td>5.668730</td>\n",
              "      <td>4.846819</td>\n",
              "      <td>1.443342</td>\n",
              "      <td>1.443731</td>\n",
              "      <td>2.095949</td>\n",
              "      <td>64.152866</td>\n",
              "      <td>7.531798</td>\n",
              "      <td>8.957287</td>\n",
              "      <td>11.171136</td>\n",
              "      <td>4.683851</td>\n",
              "      <td>3.072262</td>\n",
              "      <td>3.090338</td>\n",
              "      <td>4.642719</td>\n",
              "      <td>2.599317</td>\n",
              "      <td>5.444150</td>\n",
              "      <td>6.846402</td>\n",
              "      <td>6.077234</td>\n",
              "      <td>3.634936</td>\n",
              "      <td>4.813947</td>\n",
              "      <td>2.750926</td>\n",
              "      <td>7.707358</td>\n",
              "      <td>1.026774</td>\n",
              "      <td>1.026485</td>\n",
              "      <td>3.120761</td>\n",
              "      <td>3.248781</td>\n",
              "      <td>3.929045</td>\n",
              "      <td>Flexion_relaxed</td>\n",
              "      <td>1</td>\n",
              "    </tr>\n",
              "    <tr>\n",
              "      <th>2</th>\n",
              "      <td>3</td>\n",
              "      <td>0.000552</td>\n",
              "      <td>15.556113</td>\n",
              "      <td>7.572584</td>\n",
              "      <td>5.777622</td>\n",
              "      <td>4.761932</td>\n",
              "      <td>1.450133</td>\n",
              "      <td>1.450281</td>\n",
              "      <td>1.428901</td>\n",
              "      <td>67.604876</td>\n",
              "      <td>7.702682</td>\n",
              "      <td>8.941606</td>\n",
              "      <td>11.254600</td>\n",
              "      <td>4.555209</td>\n",
              "      <td>3.242777</td>\n",
              "      <td>3.359133</td>\n",
              "      <td>5.006113</td>\n",
              "      <td>2.736847</td>\n",
              "      <td>5.501278</td>\n",
              "      <td>6.839891</td>\n",
              "      <td>6.165724</td>\n",
              "      <td>2.991366</td>\n",
              "      <td>3.735757</td>\n",
              "      <td>2.528699</td>\n",
              "      <td>5.437963</td>\n",
              "      <td>1.014227</td>\n",
              "      <td>1.012177</td>\n",
              "      <td>3.321134</td>\n",
              "      <td>3.685095</td>\n",
              "      <td>4.407076</td>\n",
              "      <td>15.553191</td>\n",
              "      <td>7.570818</td>\n",
              "      <td>5.776619</td>\n",
              "      <td>4.771020</td>\n",
              "      <td>1.450073</td>\n",
              "      <td>1.452298</td>\n",
              "      <td>2.092197</td>\n",
              "      <td>67.602681</td>\n",
              "      <td>7.711268</td>\n",
              "      <td>8.946992</td>\n",
              "      <td>11.256895</td>\n",
              "      <td>4.554699</td>\n",
              "      <td>3.237829</td>\n",
              "      <td>3.354735</td>\n",
              "      <td>5.005968</td>\n",
              "      <td>2.736847</td>\n",
              "      <td>5.501278</td>\n",
              "      <td>6.839355</td>\n",
              "      <td>6.117054</td>\n",
              "      <td>2.991366</td>\n",
              "      <td>3.735757</td>\n",
              "      <td>2.528699</td>\n",
              "      <td>5.437963</td>\n",
              "      <td>1.017676</td>\n",
              "      <td>1.016033</td>\n",
              "      <td>3.320046</td>\n",
              "      <td>3.472213</td>\n",
              "      <td>4.304494</td>\n",
              "      <td>Flexion_relaxed</td>\n",
              "      <td>1</td>\n",
              "    </tr>\n",
              "    <tr>\n",
              "      <th>3</th>\n",
              "      <td>4</td>\n",
              "      <td>0.001190</td>\n",
              "      <td>16.394531</td>\n",
              "      <td>8.130792</td>\n",
              "      <td>6.137115</td>\n",
              "      <td>4.464246</td>\n",
              "      <td>1.474171</td>\n",
              "      <td>1.474061</td>\n",
              "      <td>1.416581</td>\n",
              "      <td>79.355084</td>\n",
              "      <td>8.320058</td>\n",
              "      <td>8.868740</td>\n",
              "      <td>11.524764</td>\n",
              "      <td>4.150429</td>\n",
              "      <td>3.788589</td>\n",
              "      <td>4.222563</td>\n",
              "      <td>6.270702</td>\n",
              "      <td>3.235264</td>\n",
              "      <td>5.703099</td>\n",
              "      <td>6.815741</td>\n",
              "      <td>6.473187</td>\n",
              "      <td>1.331174</td>\n",
              "      <td>1.583291</td>\n",
              "      <td>1.829167</td>\n",
              "      <td>1.545704</td>\n",
              "      <td>0.969852</td>\n",
              "      <td>0.961785</td>\n",
              "      <td>4.002108</td>\n",
              "      <td>4.336987</td>\n",
              "      <td>5.627499</td>\n",
              "      <td>16.382780</td>\n",
              "      <td>8.124059</td>\n",
              "      <td>6.132962</td>\n",
              "      <td>4.502724</td>\n",
              "      <td>1.473906</td>\n",
              "      <td>1.482770</td>\n",
              "      <td>2.076518</td>\n",
              "      <td>79.345254</td>\n",
              "      <td>8.357124</td>\n",
              "      <td>8.891229</td>\n",
              "      <td>11.532705</td>\n",
              "      <td>4.148542</td>\n",
              "      <td>3.768644</td>\n",
              "      <td>4.204224</td>\n",
              "      <td>6.269907</td>\n",
              "      <td>3.235264</td>\n",
              "      <td>5.703099</td>\n",
              "      <td>6.813077</td>\n",
              "      <td>6.255273</td>\n",
              "      <td>1.331174</td>\n",
              "      <td>1.583291</td>\n",
              "      <td>1.829167</td>\n",
              "      <td>1.545704</td>\n",
              "      <td>0.982653</td>\n",
              "      <td>0.976040</td>\n",
              "      <td>3.996953</td>\n",
              "      <td>4.228476</td>\n",
              "      <td>5.611956</td>\n",
              "      <td>Flexion_relaxed</td>\n",
              "      <td>1</td>\n",
              "    </tr>\n",
              "    <tr>\n",
              "      <th>4</th>\n",
              "      <td>5</td>\n",
              "      <td>0.001578</td>\n",
              "      <td>17.006705</td>\n",
              "      <td>8.509748</td>\n",
              "      <td>6.406233</td>\n",
              "      <td>4.245388</td>\n",
              "      <td>1.492229</td>\n",
              "      <td>1.491614</td>\n",
              "      <td>1.405159</td>\n",
              "      <td>88.408598</td>\n",
              "      <td>8.826196</td>\n",
              "      <td>8.788806</td>\n",
              "      <td>11.733791</td>\n",
              "      <td>3.885071</td>\n",
              "      <td>4.179901</td>\n",
              "      <td>4.857880</td>\n",
              "      <td>7.244183</td>\n",
              "      <td>3.623083</td>\n",
              "      <td>5.854482</td>\n",
              "      <td>6.796429</td>\n",
              "      <td>6.754502</td>\n",
              "      <td>0.578812</td>\n",
              "      <td>0.839202</td>\n",
              "      <td>1.391145</td>\n",
              "      <td>0.409532</td>\n",
              "      <td>0.934700</td>\n",
              "      <td>0.922107</td>\n",
              "      <td>4.488563</td>\n",
              "      <td>4.793725</td>\n",
              "      <td>6.529852</td>\n",
              "      <td>16.987830</td>\n",
              "      <td>8.499200</td>\n",
              "      <td>6.399463</td>\n",
              "      <td>4.308705</td>\n",
              "      <td>1.491774</td>\n",
              "      <td>1.506215</td>\n",
              "      <td>2.062260</td>\n",
              "      <td>88.391410</td>\n",
              "      <td>8.888049</td>\n",
              "      <td>8.825851</td>\n",
              "      <td>11.745649</td>\n",
              "      <td>3.882169</td>\n",
              "      <td>4.147357</td>\n",
              "      <td>4.826888</td>\n",
              "      <td>7.242563</td>\n",
              "      <td>3.623083</td>\n",
              "      <td>5.854482</td>\n",
              "      <td>6.791366</td>\n",
              "      <td>6.380686</td>\n",
              "      <td>0.578812</td>\n",
              "      <td>0.839202</td>\n",
              "      <td>1.391145</td>\n",
              "      <td>0.409532</td>\n",
              "      <td>0.956282</td>\n",
              "      <td>0.946078</td>\n",
              "      <td>4.479075</td>\n",
              "      <td>4.762351</td>\n",
              "      <td>6.570300</td>\n",
              "      <td>Flexion_relaxed</td>\n",
              "      <td>1</td>\n",
              "    </tr>\n",
              "  </tbody>\n",
              "</table>\n",
              "</div>\n",
              "      <button class=\"colab-df-convert\" onclick=\"convertToInteractive('df-8670961f-39e8-4610-a4a3-927e09c33bd2')\"\n",
              "              title=\"Convert this dataframe to an interactive table.\"\n",
              "              style=\"display:none;\">\n",
              "\n",
              "  <svg xmlns=\"http://www.w3.org/2000/svg\" height=\"24px\"viewBox=\"0 0 24 24\"\n",
              "       width=\"24px\">\n",
              "    <path d=\"M0 0h24v24H0V0z\" fill=\"none\"/>\n",
              "    <path d=\"M18.56 5.44l.94 2.06.94-2.06 2.06-.94-2.06-.94-.94-2.06-.94 2.06-2.06.94zm-11 1L8.5 8.5l.94-2.06 2.06-.94-2.06-.94L8.5 2.5l-.94 2.06-2.06.94zm10 10l.94 2.06.94-2.06 2.06-.94-2.06-.94-.94-2.06-.94 2.06-2.06.94z\"/><path d=\"M17.41 7.96l-1.37-1.37c-.4-.4-.92-.59-1.43-.59-.52 0-1.04.2-1.43.59L10.3 9.45l-7.72 7.72c-.78.78-.78 2.05 0 2.83L4 21.41c.39.39.9.59 1.41.59.51 0 1.02-.2 1.41-.59l7.78-7.78 2.81-2.81c.8-.78.8-2.07 0-2.86zM5.41 20L4 18.59l7.72-7.72 1.47 1.35L5.41 20z\"/>\n",
              "  </svg>\n",
              "      </button>\n",
              "\n",
              "\n",
              "\n",
              "    <div id=\"df-d0e4d2ee-f19c-4a77-966e-1bf6593696fe\">\n",
              "      <button class=\"colab-df-quickchart\" onclick=\"quickchart('df-d0e4d2ee-f19c-4a77-966e-1bf6593696fe')\"\n",
              "              title=\"Suggest charts.\"\n",
              "              style=\"display:none;\">\n",
              "\n",
              "<svg xmlns=\"http://www.w3.org/2000/svg\" height=\"24px\"viewBox=\"0 0 24 24\"\n",
              "     width=\"24px\">\n",
              "    <g>\n",
              "        <path d=\"M19 3H5c-1.1 0-2 .9-2 2v14c0 1.1.9 2 2 2h14c1.1 0 2-.9 2-2V5c0-1.1-.9-2-2-2zM9 17H7v-7h2v7zm4 0h-2V7h2v10zm4 0h-2v-4h2v4z\"/>\n",
              "    </g>\n",
              "</svg>\n",
              "      </button>\n",
              "    </div>\n",
              "\n",
              "<style>\n",
              "  .colab-df-quickchart {\n",
              "    background-color: #E8F0FE;\n",
              "    border: none;\n",
              "    border-radius: 50%;\n",
              "    cursor: pointer;\n",
              "    display: none;\n",
              "    fill: #1967D2;\n",
              "    height: 32px;\n",
              "    padding: 0 0 0 0;\n",
              "    width: 32px;\n",
              "  }\n",
              "\n",
              "  .colab-df-quickchart:hover {\n",
              "    background-color: #E2EBFA;\n",
              "    box-shadow: 0px 1px 2px rgba(60, 64, 67, 0.3), 0px 1px 3px 1px rgba(60, 64, 67, 0.15);\n",
              "    fill: #174EA6;\n",
              "  }\n",
              "\n",
              "  [theme=dark] .colab-df-quickchart {\n",
              "    background-color: #3B4455;\n",
              "    fill: #D2E3FC;\n",
              "  }\n",
              "\n",
              "  [theme=dark] .colab-df-quickchart:hover {\n",
              "    background-color: #434B5C;\n",
              "    box-shadow: 0px 1px 3px 1px rgba(0, 0, 0, 0.15);\n",
              "    filter: drop-shadow(0px 1px 2px rgba(0, 0, 0, 0.3));\n",
              "    fill: #FFFFFF;\n",
              "  }\n",
              "</style>\n",
              "\n",
              "    <script>\n",
              "      async function quickchart(key) {\n",
              "        const containerElement = document.querySelector('#' + key);\n",
              "        const charts = await google.colab.kernel.invokeFunction(\n",
              "            'suggestCharts', [key], {});\n",
              "      }\n",
              "    </script>\n",
              "\n",
              "      <script>\n",
              "\n",
              "function displayQuickchartButton(domScope) {\n",
              "  let quickchartButtonEl =\n",
              "    domScope.querySelector('#df-d0e4d2ee-f19c-4a77-966e-1bf6593696fe button.colab-df-quickchart');\n",
              "  quickchartButtonEl.style.display =\n",
              "    google.colab.kernel.accessAllowed ? 'block' : 'none';\n",
              "}\n",
              "\n",
              "        displayQuickchartButton(document);\n",
              "      </script>\n",
              "      <style>\n",
              "    .colab-df-container {\n",
              "      display:flex;\n",
              "      flex-wrap:wrap;\n",
              "      gap: 12px;\n",
              "    }\n",
              "\n",
              "    .colab-df-convert {\n",
              "      background-color: #E8F0FE;\n",
              "      border: none;\n",
              "      border-radius: 50%;\n",
              "      cursor: pointer;\n",
              "      display: none;\n",
              "      fill: #1967D2;\n",
              "      height: 32px;\n",
              "      padding: 0 0 0 0;\n",
              "      width: 32px;\n",
              "    }\n",
              "\n",
              "    .colab-df-convert:hover {\n",
              "      background-color: #E2EBFA;\n",
              "      box-shadow: 0px 1px 2px rgba(60, 64, 67, 0.3), 0px 1px 3px 1px rgba(60, 64, 67, 0.15);\n",
              "      fill: #174EA6;\n",
              "    }\n",
              "\n",
              "    [theme=dark] .colab-df-convert {\n",
              "      background-color: #3B4455;\n",
              "      fill: #D2E3FC;\n",
              "    }\n",
              "\n",
              "    [theme=dark] .colab-df-convert:hover {\n",
              "      background-color: #434B5C;\n",
              "      box-shadow: 0px 1px 3px 1px rgba(0, 0, 0, 0.15);\n",
              "      filter: drop-shadow(0px 1px 2px rgba(0, 0, 0, 0.3));\n",
              "      fill: #FFFFFF;\n",
              "    }\n",
              "  </style>\n",
              "\n",
              "      <script>\n",
              "        const buttonEl =\n",
              "          document.querySelector('#df-8670961f-39e8-4610-a4a3-927e09c33bd2 button.colab-df-convert');\n",
              "        buttonEl.style.display =\n",
              "          google.colab.kernel.accessAllowed ? 'block' : 'none';\n",
              "\n",
              "        async function convertToInteractive(key) {\n",
              "          const element = document.querySelector('#df-8670961f-39e8-4610-a4a3-927e09c33bd2');\n",
              "          const dataTable =\n",
              "            await google.colab.kernel.invokeFunction('convertToInteractive',\n",
              "                                                     [key], {});\n",
              "          if (!dataTable) return;\n",
              "\n",
              "          const docLinkHtml = 'Like what you see? Visit the ' +\n",
              "            '<a target=\"_blank\" href=https://colab.research.google.com/notebooks/data_table.ipynb>data table notebook</a>'\n",
              "            + ' to learn more about interactive tables.';\n",
              "          element.innerHTML = '';\n",
              "          dataTable['output_type'] = 'display_data';\n",
              "          await google.colab.output.renderOutput(dataTable, element);\n",
              "          const docLink = document.createElement('div');\n",
              "          docLink.innerHTML = docLinkHtml;\n",
              "          element.appendChild(docLink);\n",
              "        }\n",
              "      </script>\n",
              "    </div>\n",
              "  </div>\n"
            ]
          },
          "metadata": {},
          "execution_count": 103
        }
      ]
    },
    {
      "cell_type": "code",
      "source": [
        "df_fulldata.shape"
      ],
      "metadata": {
        "colab": {
          "base_uri": "https://localhost:8080/"
        },
        "id": "EFQVXN2EKIaJ",
        "outputId": "e057f56c-069a-4bed-a83b-38ba06b53e50"
      },
      "execution_count": 104,
      "outputs": [
        {
          "output_type": "execute_result",
          "data": {
            "text/plain": [
              "(60000, 60)"
            ]
          },
          "metadata": {},
          "execution_count": 104
        }
      ]
    },
    {
      "cell_type": "code",
      "source": [
        "#label encoding of tgt varaible\n",
        "tgt_map = {    'Flexion_football':0,\n",
        "               'Flexion_relaxed':1,\n",
        "               'Flexion_stiffed':2,\n",
        "               'Lateral_football':3,\n",
        "               'Lateral_relaxed':4,\n",
        "               'Lateral_stiffed':5\n",
        "              }\n",
        "df_fulldata[\"Direction\"]=df_fulldata.Direction.map(tgt_map)\n",
        "df_fulldata=df_fulldata.drop(columns=[\"time\",\"Subject\",\"Sr No\"],axis=1)\n"
      ],
      "metadata": {
        "id": "2cx0DQDGCIcS"
      },
      "execution_count": 105,
      "outputs": []
    },
    {
      "cell_type": "code",
      "source": [
        "x=df_fulldata.drop(columns=['Direction'])\n",
        "y=df_fulldata['Direction']\n",
        "df_fulldata['Direction'].value_counts()"
      ],
      "metadata": {
        "colab": {
          "base_uri": "https://localhost:8080/"
        },
        "id": "MoO0PlEgCKpn",
        "outputId": "81696e85-1416-4b8d-94c8-8ea56c4891fe"
      },
      "execution_count": 106,
      "outputs": [
        {
          "output_type": "execute_result",
          "data": {
            "text/plain": [
              "1    10000\n",
              "2    10000\n",
              "3    10000\n",
              "4    10000\n",
              "5    10000\n",
              "0    10000\n",
              "Name: Direction, dtype: int64"
            ]
          },
          "metadata": {},
          "execution_count": 106
        }
      ]
    },
    {
      "cell_type": "code",
      "source": [
        "#method 2:Feature selection:PCA\n",
        "#standard before doing PCA for reducing dimensions:\n",
        "from sklearn.preprocessing import StandardScaler\n",
        "scalar=StandardScaler()\n",
        "scalar.fit(x)\n",
        "x_scaled = pd.DataFrame(scalar.transform(x),columns=x.columns)\n"
      ],
      "metadata": {
        "id": "7ZkaDM6WCOQe"
      },
      "execution_count": 107,
      "outputs": []
    },
    {
      "cell_type": "code",
      "source": [
        "from sklearn.model_selection import train_test_split\n",
        "x_train, x_test, y_train, y_test = train_test_split(x_scaled, y, test_size = 0.20, stratify = y, random_state = 43,shuffle=True)\n",
        "\n",
        "print(\"x_train shape is\",x_train.shape)\n",
        "print(\"y_train shape is\",y_train.shape)\n",
        "\n",
        "print(\"x_test shape is\",x_test.shape)\n",
        "print(\"y_test shape is\",y_test.shape)"
      ],
      "metadata": {
        "colab": {
          "base_uri": "https://localhost:8080/"
        },
        "id": "ijTlPvCFCUeT",
        "outputId": "a3ce9796-4630-4698-e428-79c914b11134"
      },
      "execution_count": 108,
      "outputs": [
        {
          "output_type": "stream",
          "name": "stdout",
          "text": [
            "x_train shape is (48000, 56)\n",
            "y_train shape is (48000,)\n",
            "x_test shape is (12000, 56)\n",
            "y_test shape is (12000,)\n"
          ]
        }
      ]
    },
    {
      "cell_type": "code",
      "source": [
        "#Classification Metrics:\n",
        "\n",
        "def prediction(x_train,y_train,x_test,y_test,y_train_predict,y_test_predict):\n",
        "\n",
        "  #Accuracy Check of Train\n",
        "  train_accuracy = metrics.accuracy_score(y_train,y_train_predict)\n",
        "  print(\"The Train Accuracy:\",round(train_accuracy,3))\n",
        "\n",
        "# Accuracy Check of Test\n",
        "  test_accuracy = metrics.accuracy_score(y_test,y_test_predict)\n",
        "  print(\"The Test Accuracy\",round(test_accuracy,4))\n",
        "\n",
        "  return train_accuracy,test_accuracy"
      ],
      "metadata": {
        "id": "mVxFRXftCUiP"
      },
      "execution_count": 117,
      "outputs": []
    },
    {
      "cell_type": "code",
      "source": [
        "#4) XG Boost calssifier\n",
        "import xgboost as xgb\n",
        "xgb_classifier = xgb.XGBClassifier()\n",
        "\n",
        "xgb_classifier.fit(x_train, y_train)\n",
        "y_train_predict = xgb_classifier.predict(x_train)\n",
        "y_test_predict = xgb_classifier.predict(x_test)\n",
        "\n",
        "print(\"the Train and Test accuracy of XG Boost calssifier \")\n",
        "XGB_train_accuracy, XGB_test_accuracy=prediction(x_train,y_train,x_test,y_test,y_train_predict,y_test_predict)"
      ],
      "metadata": {
        "colab": {
          "base_uri": "https://localhost:8080/"
        },
        "id": "eptDPL52CaBs",
        "outputId": "8337ea81-b7b7-4cef-8a2a-67078884d220"
      },
      "execution_count": 118,
      "outputs": [
        {
          "output_type": "stream",
          "name": "stdout",
          "text": [
            "the Train and Test accuracy of XG Boost calssifier \n",
            "The Train Accuracy: 0.995\n",
            "The Test Accuracy 0.9838\n"
          ]
        }
      ]
    },
    {
      "cell_type": "code",
      "source": [
        "#APPPLYING K FOLD CROSS VALIDATION\n",
        "from sklearn.model_selection import cross_val_score\n",
        "accuracies= cross_val_score(xgb_classifier,x_train,y_train, cv=5)\n",
        "\n",
        "accuracies_test= cross_val_score(xgb_classifier,x_test,y_test, cv=5)"
      ],
      "metadata": {
        "id": "QVCCpUc0j0T5"
      },
      "execution_count": 125,
      "outputs": []
    },
    {
      "cell_type": "code",
      "source": [
        "print(\"Accuracy : {:.2f} %\",format(accuracies.mean()*100))\n",
        "print(accuracies.mean()*100)\n",
        "print(accuracies.std()*100)\n",
        "\n",
        "print(\"test Accuracy : {:.2f} %\",format(accuracies.mean()*100))\n",
        "print(accuracies_test.mean()*100)\n",
        "print(accuracies_test.std()*100)"
      ],
      "metadata": {
        "colab": {
          "base_uri": "https://localhost:8080/"
        },
        "id": "ijXZ4ojWnnQ3",
        "outputId": "83b465a3-5e7b-4f72-eea9-05b16998d27e"
      },
      "execution_count": 126,
      "outputs": [
        {
          "output_type": "stream",
          "name": "stdout",
          "text": [
            "Accuracy : {:.2f} % 98.28541666666668\n",
            "98.28541666666668\n",
            "0.06705615391429652\n"
          ]
        }
      ]
    },
    {
      "cell_type": "code",
      "source": [
        "#Hyperparameter Optimization for Xgboost"
      ],
      "metadata": {
        "id": "hkkfe7xZiVXF"
      },
      "execution_count": 127,
      "outputs": []
    },
    {
      "cell_type": "code",
      "source": [
        "## Hyper Parameter Optimization\n",
        "\n",
        "params={\n",
        " \"learning_rate\"    : [0.05, 0.10, 0.15, 0.20, 0.25, 0.30 ] ,\n",
        " \"max_depth\"        : [ 3, 4, 5, 6, 8, 10, 12, 15],\n",
        " \"min_child_weight\" : [ 1, 3, 5, 7 ],\n",
        " \"gamma\"            : [ 0.0, 0.1, 0.2 , 0.3, 0.4 ],\n",
        " \"colsample_bytree\" : [ 0.3, 0.4, 0.5 , 0.7 ]\n",
        "\n",
        "}"
      ],
      "metadata": {
        "id": "KqX4JYKsgrZu"
      },
      "execution_count": 128,
      "outputs": []
    },
    {
      "cell_type": "code",
      "source": [
        "## Hyperparameter optimization using RandomizedSearchCV\n",
        "from sklearn.model_selection import RandomizedSearchCV, GridSearchCV\n",
        "import xgboost"
      ],
      "metadata": {
        "id": "Ti6YyG_fgxeY"
      },
      "execution_count": 129,
      "outputs": []
    },
    {
      "cell_type": "code",
      "source": [
        "def timer(start_time=None):\n",
        "    if not start_time:\n",
        "        start_time = datetime.now()\n",
        "        return start_time\n",
        "    elif start_time:\n",
        "        thour, temp_sec = divmod((datetime.now() - start_time).total_seconds(), 3600)\n",
        "        tmin, tsec = divmod(temp_sec, 60)\n",
        "        print('\\n Time taken: %i hours %i minutes and %s seconds.' % (thour, tmin, round(tsec, 2)))"
      ],
      "metadata": {
        "id": "WvvqIkFBgz93"
      },
      "execution_count": 130,
      "outputs": []
    },
    {
      "cell_type": "code",
      "source": [
        "classifier=xgboost.XGBClassifier()"
      ],
      "metadata": {
        "id": "NJca5nbDhJw6"
      },
      "execution_count": 131,
      "outputs": []
    },
    {
      "cell_type": "code",
      "source": [
        "random_search=RandomizedSearchCV(classifier,param_distributions=params,n_iter=5,scoring='roc_auc',n_jobs=-1,cv=3,verbose=3)\n",
        "\n",
        "from datetime import datetime\n",
        "# Here we go\n",
        "start_time = timer(None) # timing starts from this point for \"start_time\" variable\n",
        "random_search.fit(x,y)\n",
        "timer(start_time) # timing ends here for \"start_time\" variable"
      ],
      "metadata": {
        "colab": {
          "base_uri": "https://localhost:8080/"
        },
        "id": "vNAgzWsshJ3t",
        "outputId": "45cdd194-5c96-4176-ac62-f2b07083f471"
      },
      "execution_count": 132,
      "outputs": [
        {
          "output_type": "stream",
          "name": "stdout",
          "text": [
            "Fitting 3 folds for each of 5 candidates, totalling 15 fits\n",
            "\n",
            " Time taken: 0 hours 18 minutes and 37.45 seconds.\n"
          ]
        }
      ]
    },
    {
      "cell_type": "code",
      "source": [
        "\n",
        "random_search.best_estimator_"
      ],
      "metadata": {
        "colab": {
          "base_uri": "https://localhost:8080/",
          "height": 249
        },
        "id": "ejfvIS4NhJ74",
        "outputId": "3a9aac7e-f497-4883-9bf6-88d87ad4dfaa"
      },
      "execution_count": 133,
      "outputs": [
        {
          "output_type": "execute_result",
          "data": {
            "text/plain": [
              "XGBClassifier(base_score=None, booster=None, callbacks=None,\n",
              "              colsample_bylevel=None, colsample_bynode=None,\n",
              "              colsample_bytree=0.5, early_stopping_rounds=None,\n",
              "              enable_categorical=False, eval_metric=None, feature_types=None,\n",
              "              gamma=0.3, gpu_id=None, grow_policy=None, importance_type=None,\n",
              "              interaction_constraints=None, learning_rate=0.1, max_bin=None,\n",
              "              max_cat_threshold=None, max_cat_to_onehot=None,\n",
              "              max_delta_step=None, max_depth=6, max_leaves=None,\n",
              "              min_child_weight=3, missing=nan, monotone_constraints=None,\n",
              "              n_estimators=100, n_jobs=None, num_parallel_tree=None,\n",
              "              objective='multi:softprob', predictor=None, ...)"
            ],
            "text/html": [
              "<style>#sk-container-id-1 {color: black;background-color: white;}#sk-container-id-1 pre{padding: 0;}#sk-container-id-1 div.sk-toggleable {background-color: white;}#sk-container-id-1 label.sk-toggleable__label {cursor: pointer;display: block;width: 100%;margin-bottom: 0;padding: 0.3em;box-sizing: border-box;text-align: center;}#sk-container-id-1 label.sk-toggleable__label-arrow:before {content: \"▸\";float: left;margin-right: 0.25em;color: #696969;}#sk-container-id-1 label.sk-toggleable__label-arrow:hover:before {color: black;}#sk-container-id-1 div.sk-estimator:hover label.sk-toggleable__label-arrow:before {color: black;}#sk-container-id-1 div.sk-toggleable__content {max-height: 0;max-width: 0;overflow: hidden;text-align: left;background-color: #f0f8ff;}#sk-container-id-1 div.sk-toggleable__content pre {margin: 0.2em;color: black;border-radius: 0.25em;background-color: #f0f8ff;}#sk-container-id-1 input.sk-toggleable__control:checked~div.sk-toggleable__content {max-height: 200px;max-width: 100%;overflow: auto;}#sk-container-id-1 input.sk-toggleable__control:checked~label.sk-toggleable__label-arrow:before {content: \"▾\";}#sk-container-id-1 div.sk-estimator input.sk-toggleable__control:checked~label.sk-toggleable__label {background-color: #d4ebff;}#sk-container-id-1 div.sk-label input.sk-toggleable__control:checked~label.sk-toggleable__label {background-color: #d4ebff;}#sk-container-id-1 input.sk-hidden--visually {border: 0;clip: rect(1px 1px 1px 1px);clip: rect(1px, 1px, 1px, 1px);height: 1px;margin: -1px;overflow: hidden;padding: 0;position: absolute;width: 1px;}#sk-container-id-1 div.sk-estimator {font-family: monospace;background-color: #f0f8ff;border: 1px dotted black;border-radius: 0.25em;box-sizing: border-box;margin-bottom: 0.5em;}#sk-container-id-1 div.sk-estimator:hover {background-color: #d4ebff;}#sk-container-id-1 div.sk-parallel-item::after {content: \"\";width: 100%;border-bottom: 1px solid gray;flex-grow: 1;}#sk-container-id-1 div.sk-label:hover label.sk-toggleable__label {background-color: #d4ebff;}#sk-container-id-1 div.sk-serial::before {content: \"\";position: absolute;border-left: 1px solid gray;box-sizing: border-box;top: 0;bottom: 0;left: 50%;z-index: 0;}#sk-container-id-1 div.sk-serial {display: flex;flex-direction: column;align-items: center;background-color: white;padding-right: 0.2em;padding-left: 0.2em;position: relative;}#sk-container-id-1 div.sk-item {position: relative;z-index: 1;}#sk-container-id-1 div.sk-parallel {display: flex;align-items: stretch;justify-content: center;background-color: white;position: relative;}#sk-container-id-1 div.sk-item::before, #sk-container-id-1 div.sk-parallel-item::before {content: \"\";position: absolute;border-left: 1px solid gray;box-sizing: border-box;top: 0;bottom: 0;left: 50%;z-index: -1;}#sk-container-id-1 div.sk-parallel-item {display: flex;flex-direction: column;z-index: 1;position: relative;background-color: white;}#sk-container-id-1 div.sk-parallel-item:first-child::after {align-self: flex-end;width: 50%;}#sk-container-id-1 div.sk-parallel-item:last-child::after {align-self: flex-start;width: 50%;}#sk-container-id-1 div.sk-parallel-item:only-child::after {width: 0;}#sk-container-id-1 div.sk-dashed-wrapped {border: 1px dashed gray;margin: 0 0.4em 0.5em 0.4em;box-sizing: border-box;padding-bottom: 0.4em;background-color: white;}#sk-container-id-1 div.sk-label label {font-family: monospace;font-weight: bold;display: inline-block;line-height: 1.2em;}#sk-container-id-1 div.sk-label-container {text-align: center;}#sk-container-id-1 div.sk-container {/* jupyter's `normalize.less` sets `[hidden] { display: none; }` but bootstrap.min.css set `[hidden] { display: none !important; }` so we also need the `!important` here to be able to override the default hidden behavior on the sphinx rendered scikit-learn.org. See: https://github.com/scikit-learn/scikit-learn/issues/21755 */display: inline-block !important;position: relative;}#sk-container-id-1 div.sk-text-repr-fallback {display: none;}</style><div id=\"sk-container-id-1\" class=\"sk-top-container\"><div class=\"sk-text-repr-fallback\"><pre>XGBClassifier(base_score=None, booster=None, callbacks=None,\n",
              "              colsample_bylevel=None, colsample_bynode=None,\n",
              "              colsample_bytree=0.5, early_stopping_rounds=None,\n",
              "              enable_categorical=False, eval_metric=None, feature_types=None,\n",
              "              gamma=0.3, gpu_id=None, grow_policy=None, importance_type=None,\n",
              "              interaction_constraints=None, learning_rate=0.1, max_bin=None,\n",
              "              max_cat_threshold=None, max_cat_to_onehot=None,\n",
              "              max_delta_step=None, max_depth=6, max_leaves=None,\n",
              "              min_child_weight=3, missing=nan, monotone_constraints=None,\n",
              "              n_estimators=100, n_jobs=None, num_parallel_tree=None,\n",
              "              objective=&#x27;multi:softprob&#x27;, predictor=None, ...)</pre><b>In a Jupyter environment, please rerun this cell to show the HTML representation or trust the notebook. <br />On GitHub, the HTML representation is unable to render, please try loading this page with nbviewer.org.</b></div><div class=\"sk-container\" hidden><div class=\"sk-item\"><div class=\"sk-estimator sk-toggleable\"><input class=\"sk-toggleable__control sk-hidden--visually\" id=\"sk-estimator-id-1\" type=\"checkbox\" checked><label for=\"sk-estimator-id-1\" class=\"sk-toggleable__label sk-toggleable__label-arrow\">XGBClassifier</label><div class=\"sk-toggleable__content\"><pre>XGBClassifier(base_score=None, booster=None, callbacks=None,\n",
              "              colsample_bylevel=None, colsample_bynode=None,\n",
              "              colsample_bytree=0.5, early_stopping_rounds=None,\n",
              "              enable_categorical=False, eval_metric=None, feature_types=None,\n",
              "              gamma=0.3, gpu_id=None, grow_policy=None, importance_type=None,\n",
              "              interaction_constraints=None, learning_rate=0.1, max_bin=None,\n",
              "              max_cat_threshold=None, max_cat_to_onehot=None,\n",
              "              max_delta_step=None, max_depth=6, max_leaves=None,\n",
              "              min_child_weight=3, missing=nan, monotone_constraints=None,\n",
              "              n_estimators=100, n_jobs=None, num_parallel_tree=None,\n",
              "              objective=&#x27;multi:softprob&#x27;, predictor=None, ...)</pre></div></div></div></div></div>"
            ]
          },
          "metadata": {},
          "execution_count": 133
        }
      ]
    },
    {
      "cell_type": "code",
      "source": [
        "random_search.best_params_"
      ],
      "metadata": {
        "colab": {
          "base_uri": "https://localhost:8080/"
        },
        "id": "yUt5_nU5hJ_1",
        "outputId": "45fe1621-5296-4b53-8ccc-2af34f7aae51"
      },
      "execution_count": 141,
      "outputs": [
        {
          "output_type": "execute_result",
          "data": {
            "text/plain": [
              "{'min_child_weight': 3,\n",
              " 'max_depth': 6,\n",
              " 'learning_rate': 0.1,\n",
              " 'gamma': 0.3,\n",
              " 'colsample_bytree': 0.5}"
            ]
          },
          "metadata": {},
          "execution_count": 141
        }
      ]
    },
    {
      "cell_type": "code",
      "source": [
        "classifier=xgboost.XGBClassifier(base_score=None, booster=None, callbacks=None,\n",
        "              colsample_bylevel=None, colsample_bynode=None,\n",
        "              colsample_bytree=0.5, early_stopping_rounds=None,\n",
        "              enable_categorical=False, eval_metric=None, feature_types=None,\n",
        "              gamma=0.3, gpu_id=None, grow_policy=None, importance_type=None,\n",
        "              interaction_constraints=None, learning_rate=0.1, max_bin=None,\n",
        "              max_cat_threshold=None, max_cat_to_onehot=None,\n",
        "              max_delta_step=None, max_depth=6, max_leaves=None,\n",
        "              min_child_weight=3, monotone_constraints=None,\n",
        "              n_estimators=100, n_jobs=None, num_parallel_tree=None,\n",
        "              objective='multi:softprob')"
      ],
      "metadata": {
        "id": "LdFpYUpvhmVl"
      },
      "execution_count": 142,
      "outputs": []
    },
    {
      "cell_type": "code",
      "source": [
        "\n",
        "from sklearn.model_selection import cross_val_score\n",
        "score=cross_val_score(classifier,x,y,cv=5)"
      ],
      "metadata": {
        "id": "kH9OoN4QhoBS"
      },
      "execution_count": 144,
      "outputs": []
    },
    {
      "cell_type": "code",
      "source": [
        "score"
      ],
      "metadata": {
        "colab": {
          "base_uri": "https://localhost:8080/"
        },
        "id": "CCCXfGZRhq_6",
        "outputId": "90f59127-aab9-474b-9946-f397645be64a"
      },
      "execution_count": 138,
      "outputs": [
        {
          "output_type": "execute_result",
          "data": {
            "text/plain": [
              "array([nan, nan, nan, nan, nan])"
            ]
          },
          "metadata": {},
          "execution_count": 138
        }
      ]
    },
    {
      "cell_type": "code",
      "source": [
        "\n",
        "score.mean()"
      ],
      "metadata": {
        "id": "UyuY_at1hsvn"
      },
      "execution_count": null,
      "outputs": []
    },
    {
      "cell_type": "code",
      "source": [],
      "metadata": {
        "id": "RloYecb3hKEk"
      },
      "execution_count": null,
      "outputs": []
    },
    {
      "cell_type": "code",
      "source": [],
      "metadata": {
        "id": "A95QrhoPhKIQ"
      },
      "execution_count": null,
      "outputs": []
    },
    {
      "cell_type": "code",
      "source": [],
      "metadata": {
        "id": "9CNd5XHxhKMY"
      },
      "execution_count": null,
      "outputs": []
    },
    {
      "cell_type": "code",
      "source": [
        "from sklearn.model_selection import KFold\n",
        "model=DecisionTreeClassifier()\n",
        "kfold_validation=KFold(10)\n",
        "\n",
        "import numpy as np\n",
        "from sklearn.model_selection import cross_val_score\n",
        "results=cross_val_score(xgb_classifier,X,y,cv=kfold_validation)\n",
        "print(results)\n",
        "print(np.mean(results))"
      ],
      "metadata": {
        "id": "dj9GV8cPb2h5"
      },
      "execution_count": null,
      "outputs": []
    },
    {
      "cell_type": "code",
      "source": [
        "check_instance=pd.DataFrame()\n",
        "check_instance[\"actual\"]=y_test\n",
        "check_instance[\"predicted\"]=y_test_predict\n",
        "check_instance.head(10)"
      ],
      "metadata": {
        "id": "Y1IB4aGzHAT8"
      },
      "execution_count": null,
      "outputs": []
    },
    {
      "cell_type": "code",
      "source": [
        "explainer = lime_tabular.LimeTabularExplainer(training_data=np.array(x_train),\n",
        "                                              feature_names=x_train.columns,\n",
        "                                              verbose=True,\n",
        "                                              class_names=['0','1',\"2\",\"3\",\"4\",\"5\"],\n",
        "                                              mode='classification')"
      ],
      "metadata": {
        "id": "70TaO5WnDH-p"
      },
      "execution_count": null,
      "outputs": []
    },
    {
      "cell_type": "code",
      "source": [
        "exp = explainer.explain_instance(\n",
        "    data_row=x_test.iloc[3], ##new data\n",
        "    predict_fn=xgb_classifier.predict_proba\n",
        ")\n",
        "exp.show_in_notebook(show_table=True)"
      ],
      "metadata": {
        "id": "TZj63N9ZLc3f"
      },
      "execution_count": null,
      "outputs": []
    },
    {
      "cell_type": "code",
      "source": [],
      "metadata": {
        "id": "6LdewiogDxXE"
      },
      "execution_count": null,
      "outputs": []
    },
    {
      "cell_type": "code",
      "source": [
        " #4)CROSS VALIDATION-xgb Classifier\n",
        "\n",
        "import xgboost as xgb\n",
        "xgb_classifier = xgb.XGBClassifier()\n",
        "cv_score_xg = cross_val_score(xgb_classifier, x, y, cv=5)\n",
        "print(cv_score_xg)\n",
        "mean_accuracy_xg = sum(cv_score_lr)/len(cv_score_xg)\n",
        "mean_accuracy_xg = mean_accuracy_dt*100\n",
        "mean_accuracy_xg = round(mean_accuracy_xg, 2)\n",
        "print(mean_accuracy_xg)"
      ],
      "metadata": {
        "id": "Z79tHgcmCgig"
      },
      "execution_count": null,
      "outputs": []
    },
    {
      "cell_type": "code",
      "source": [
        "#mean_accuracy_list\n",
        "results = pd.DataFrame({\n",
        "    'Model': ['xgb'],\n",
        "    'Score': [mean_accuracy_xg]})\n",
        "result_df = results.sort_values(by='Score', ascending=False)\n",
        "result_df = result_df.set_index('Score')\n",
        "result_df.head(9)"
      ],
      "metadata": {
        "id": "pjKKom_CCjtg"
      },
      "execution_count": null,
      "outputs": []
    }
  ]
}